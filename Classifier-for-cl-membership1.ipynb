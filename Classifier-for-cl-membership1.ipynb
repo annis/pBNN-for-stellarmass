{
 "cells": [
  {
   "cell_type": "markdown",
   "id": "ac8a7673-b405-4356-95a3-e0e6aaea2a6b",
   "metadata": {},
   "source": [
    "# Classifier for cluster membership\n",
    "\n",
    "Oct 23, 2021"
   ]
  },
  {
   "cell_type": "code",
   "execution_count": 1,
   "id": "0bb59c27-7f88-4b5d-88d6-85ddcd296aa5",
   "metadata": {},
   "outputs": [
    {
     "name": "stderr",
     "output_type": "stream",
     "text": [
      "2021-10-28 06:33:13.932367: W tensorflow/stream_executor/platform/default/dso_loader.cc:64] Could not load dynamic library 'libcudart.so.11.0'; dlerror: libcudart.so.11.0: cannot open shared object file: No such file or directory; LD_LIBRARY_PATH: /opt/cray/job/2.2.4-7.0.1.1_3.54__g36b56f4.ari/lib64:/opt/intel/compilers_and_libraries_2019.3.199/linux/compiler/lib/intel64:/opt/intel/compilers_and_libraries_2019.3.199/linux/mkl/lib/intel64:/usr/common/software/darshan/3.2.1/lib\n",
      "2021-10-28 06:33:13.932386: I tensorflow/stream_executor/cuda/cudart_stub.cc:29] Ignore above cudart dlerror if you do not have a GPU set up on your machine.\n"
     ]
    },
    {
     "name": "stdout",
     "output_type": "stream",
     "text": [
      "TensorFlow version: 2.8.0-dev20211012\n",
      "TensorFlow Probability version: 0.15.0-dev20211013\n",
      "WARNING: GPU device not found.\n"
     ]
    },
    {
     "name": "stderr",
     "output_type": "stream",
     "text": [
      "2021-10-28 06:33:31.162628: I tensorflow/core/platform/cpu_feature_guard.cc:151] This TensorFlow binary is optimized with oneAPI Deep Neural Network Library (oneDNN) to use the following CPU instructions in performance-critical operations:  AVX2 FMA\n",
      "To enable them in other operations, rebuild TensorFlow with the appropriate compiler flags.\n",
      "2021-10-28 06:33:31.222736: E tensorflow/stream_executor/cuda/cuda_driver.cc:271] failed call to cuInit: CUDA_ERROR_NO_DEVICE: no CUDA-capable device is detected\n",
      "2021-10-28 06:33:31.222756: I tensorflow/stream_executor/cuda/cuda_diagnostics.cc:156] kernel driver does not appear to be running on this host (nid00575): /proc/driver/nvidia/version does not exist\n"
     ]
    }
   ],
   "source": [
    "import scipy\n",
    "import numpy as np\n",
    "import pandas as pd\n",
    "from tqdm import trange\n",
    "import time\n",
    "\n",
    "#import tensorflow.compat.v2 as tf\n",
    "#tf.enable_v2_behavior()\n",
    "import tensorflow as tf\n",
    "import tensorflow_probability as tfp\n",
    "tfd = tfp.distributions\n",
    "tfb = tfp.bijectors\n",
    "\n",
    "# data splitting and outlier removal\n",
    "import  sklearn.preprocessing  # StandardScaler\n",
    "from sklearn.ensemble import IsolationForest\n",
    "import sklearn.model_selection #  train_test_split\n",
    "import colossus\n",
    "from colossus.cosmology import cosmology\n",
    "# Set tensor numeric type.\n",
    "dtype = 'float32'\n",
    "\n",
    "# Data Viz. \n",
    "import matplotlib.pyplot as plt\n",
    "import seaborn as sns\n",
    "import itertools # to cycle through palette colors\n",
    "if 1== 1 :\n",
    "  sns.set_style(\n",
    "    style='darkgrid', \n",
    "    rc={'axes.facecolor': '.9', 'grid.color': '.8'}\n",
    "  )\n",
    "sns.set_palette(palette='deep')\n",
    "#sns.set_palette(palette=\"Paired_r\")\n",
    "#sns_c = sns.color_palette(palette=\"Paired_r\")\n",
    "%matplotlib inline\n",
    "from pandas.plotting import register_matplotlib_converters\n",
    "register_matplotlib_converters()\n",
    "\n",
    "# Get TensorFlow version.\n",
    "print(f'TensorFlow version: {tf.__version__}')\n",
    "print(f'TensorFlow Probability version: {tfp.__version__}')\n",
    "\n",
    "if tf.test.gpu_device_name() != '/device:GPU:0':\n",
    "  print('WARNING: GPU device not found.')\n",
    "else:\n",
    "  print('SUCCESS: Found GPU: {}'.format(tf.test.gpu_device_name()))"
   ]
  },
  {
   "cell_type": "code",
   "execution_count": 2,
   "id": "3ad35d2a-e268-482e-a446-2043ab226d2b",
   "metadata": {},
   "outputs": [
    {
     "name": "stdout",
     "output_type": "stream",
     "text": [
      "     radius  delta-pz  stellarmass      cl_z      i_mag       u-g       g-r  \\\n",
      "0  1.390108 -0.296234    14.101338  0.377169  16.710154  1.717278  0.932936   \n",
      "1  0.316237 -0.191917    12.542130  0.377169  17.553968  1.706240  1.123459   \n",
      "2  0.288371 -0.175732    11.345499  0.377169  19.848861  1.695599  1.063702   \n",
      "3  0.275092 -0.258053    12.671572  0.377169  19.362929  1.733788  1.121321   \n",
      "4  1.672411 -0.181209    11.965657  0.377169  18.689300  1.673197  1.098970   \n",
      "\n",
      "        r-i       i-z  member  id  \n",
      "0  0.455732  0.321991       0   0  \n",
      "1  0.494001  0.287647       0   1  \n",
      "2  0.464962  0.269772       0   2  \n",
      "3  0.481617  0.299284       0   3  \n",
      "4  0.491835  0.312542       0   4  \n"
     ]
    }
   ],
   "source": [
    "def write_galaxy_sample (gal_df) :\n",
    "    # model photo-z as a gaussian of sigma=0.03\n",
    "    z = gal_df[\"redshift\"]\n",
    "    pz = z+np.random.normal(0,0.03, size=z.size)\n",
    "    # if the pz < 0, flip it about 0\n",
    "    ix, = np.where(pz<0)\n",
    "    pz[ix] = np.abs(pz[ix])\n",
    "    is_central = gal_df[\"is_central\"]\n",
    "    cl_id = gal_df[\"cluster_id\"] \n",
    "    halo_id = gal_df[\"halo_id\"]\n",
    "    # set the central galaxies to no pz error\n",
    "    ix = ((is_central==True) & (cl_id == halo_id))\n",
    "    pz[ix] = z[ix]\n",
    "    delta_pz = pz - gal_df[\"cluster_z\"]\n",
    "\n",
    "    print(\"sm\")\n",
    "    cosmos=cosmology.setCosmology('planck18')\n",
    "    luminosityDistance_gal = cosmos.luminosityDistance(pz)\n",
    "    luminosityDistance_cl = cosmos.luminosityDistance(gal_df[\"cluster_z\"])\n",
    "    delta_dm = 5*np.log10(luminosityDistance_gal/luminosityDistance_cl)\n",
    "    gal_smass = gal_df[\"stellar_mass\"] - delta_dm\n",
    "\n",
    "    print(\"radius\")\n",
    "    angularDiameterDistance = cosmos.angularDiameterDistance(gal_df[\"cluster_z\"])\n",
    "    degrees_per_mpc = (1./angularDiameterDistance)*(360./2/np.pi)\n",
    "    cluster_radius_mpc = gal_df[\"cluster_radius_arcmin\"]/60./degrees_per_mpc\n",
    "\n",
    "    print(\"prep galaxies\")\n",
    "    galaxies = pd.DataFrame({})\n",
    "    galaxies[\"radius\"] = cluster_radius_mpc\n",
    "    galaxies[\"delta-pz\"] = delta_pz\n",
    "    galaxies[\"stellarmass\"]= gal_smass\n",
    "    galaxies[\"cl_z\"] = gal_df[\"cluster_z\"]\n",
    "    galaxies[\"i_mag\"]=gal_df[\"mag_i\"]\n",
    "    galaxies[\"u-g\"] = gal_df[\"mag_u-g\"]\n",
    "    galaxies[\"g-r\"] = gal_df[\"mag_g-r\"]\n",
    "    galaxies[\"r-i\"] = gal_df[\"mag_r-i\"]\n",
    "    galaxies[\"i-z\"] = gal_df[\"mag_i-z\"]\n",
    "    cluster_member = (gal_df[\"halo_id\"] == gal_df[\"cluster_id\"])\n",
    "    cluster_member = np.array(cluster_member).astype(\"int\")\n",
    "    galaxies[\"member\"] = cluster_member\n",
    "    galaxies[\"id\"] = galaxies.index\n",
    "\n",
    "\n",
    "    print(\"starting to write\")\n",
    "    galaxies.to_csv(\"~/Data/galaxies_near_clusters_small.csv\")\n",
    "    print(\"wrote ~/Data/galaxies_near_clusters_small.csv   {} gals\".format(galaxies[\"radius\"].size))\n",
    "\n",
    "    gal_df = pd.read_csv(\"~/Data/galaxies_near_clusters_0.3-0.6.csv\", index_col=0)\n",
    "need_to_generate = False\n",
    "if need_to_generate:\n",
    "    print(gal_df.head())\n",
    "    write_galaxy_sample (gal_df)\n",
    "    \n",
    "galaxies = pd.read_csv(\"~/Data/galaxies_near_clusters_small.csv\", index_col=0)\n",
    "print(galaxies.head())\n",
    "#"
   ]
  },
  {
   "cell_type": "code",
   "execution_count": 3,
   "id": "7cd180e1-b2f2-456f-ad3a-ce9701c7b4c2",
   "metadata": {},
   "outputs": [
    {
     "name": "stdout",
     "output_type": "stream",
     "text": [
      "X, y: (229314, 9) (229314,)\n"
     ]
    }
   ],
   "source": [
    "train,test = sklearn.model_selection.train_test_split(galaxies, train_size=0.80)\n",
    "#X_t = sklearn.preprocessing.StandardScaler.fit_transform(train)\n",
    "X = train[train.columns[:-2]]\n",
    "y = train[train.columns[-2]]\n",
    "print(\"X, y:\", X.shape, y.shape)\n",
    "X_test = test[test.columns[:-2]]\n",
    "y_test = test[test.columns[-2]]\n",
    "\n",
    "\n",
    "\n",
    "train = tf.data.Dataset.from_tensor_slices( (X, y)).shuffle(10000).batch(1000)\n",
    "\n",
    "all_X = galaxies[galaxies.columns[:-2]]\n",
    "all_y = galaxies[galaxies.columns[-2]]\n"
   ]
  },
  {
   "cell_type": "code",
   "execution_count": 4,
   "id": "60865e4b-5244-4e6a-995e-08136afb1a58",
   "metadata": {},
   "outputs": [],
   "source": [
    "# Note that when using the delayed-build pattern (no input shape specified),\n",
    "# the model gets built the first time you call `fit`, `eval`, or `predict`,\n",
    "# or the first time you call the model on some input data.\n",
    "model = tf.keras.Sequential()\n",
    "#model.add(tf.keras.layers.Dense(64,activation='relu', input_dim=9))\n",
    "#model.add(tf.keras.layers.Dense(32,activation='relu'))\n",
    "model.add(tf.keras.layers.Dense(16,activation='relu'))\n",
    "model.add(tf.keras.layers.Dense(8,activation='relu'))\n",
    "model.add(tf.keras.layers.Dense(1, activation='sigmoid'))\n",
    "\n",
    "\n",
    "start = time.time()\n",
    "model.compile(loss='binary_crossentropy', optimizer='adam', metrics=['accuracy'])\n",
    "doRun = False\n",
    "if doRun == True:\n",
    "    model.fit(X,y, epochs=10)\n",
    "    #model.fit(X,y, epochs=100)\n",
    "    end = time.time()\n",
    "    print(\"optimizing time: {:2f} seconds\".format(end - start))\n",
    "\n",
    "    print(model.summary())\n",
    "    score = model.evaluate(X_test, y_test, verbose=1)\n",
    "\n",
    "    print(\"Test Score:\", score[0])\n",
    "    print(\"Test Accuracy: {:.2f}%\".format(score[1]*100))\n",
    "\n"
   ]
  },
  {
   "cell_type": "code",
   "execution_count": 5,
   "id": "51b06f39-467c-45cf-9ffd-ec14a68c5ce1",
   "metadata": {},
   "outputs": [
    {
     "data": {
      "text/plain": [
       "((286643,), (286643, 9), (286643,))"
      ]
     },
     "execution_count": 5,
     "metadata": {},
     "output_type": "execute_result"
    }
   ],
   "source": [
    "Saved_Model_Name = '~/Models/cluster_membership-100e'\n",
    "#model.save(Saved_Model_Name)\n",
    "model = tf.keras.models.load_model(Saved_Model_Name)\n",
    "\n",
    "membership = np.squeeze(model.predict(all_X))\n",
    "membership.shape, all_X.shape, all_y.shape"
   ]
  },
  {
   "cell_type": "code",
   "execution_count": 6,
   "id": "7497b0c8-d567-44db-9042-ea350e9d311d",
   "metadata": {},
   "outputs": [
    {
     "data": {
      "text/html": [
       "<div>\n",
       "<style scoped>\n",
       "    .dataframe tbody tr th:only-of-type {\n",
       "        vertical-align: middle;\n",
       "    }\n",
       "\n",
       "    .dataframe tbody tr th {\n",
       "        vertical-align: top;\n",
       "    }\n",
       "\n",
       "    .dataframe thead th {\n",
       "        text-align: right;\n",
       "    }\n",
       "</style>\n",
       "<table border=\"1\" class=\"dataframe\">\n",
       "  <thead>\n",
       "    <tr style=\"text-align: right;\">\n",
       "      <th></th>\n",
       "      <th>Unnamed: 0</th>\n",
       "      <th>dec</th>\n",
       "      <th>ra</th>\n",
       "      <th>redshift</th>\n",
       "      <th>halo_mass</th>\n",
       "      <th>stellar_mass</th>\n",
       "      <th>halo_id</th>\n",
       "      <th>central_sm</th>\n",
       "      <th>sm_0.50</th>\n",
       "      <th>sm_0.67</th>\n",
       "      <th>sm_1.0</th>\n",
       "      <th>sm_1.5</th>\n",
       "      <th>sm_2.0</th>\n",
       "      <th>sm_3.0</th>\n",
       "      <th>stellarmass</th>\n",
       "    </tr>\n",
       "  </thead>\n",
       "  <tbody>\n",
       "    <tr>\n",
       "      <th>0</th>\n",
       "      <td>0</td>\n",
       "      <td>-39.595058</td>\n",
       "      <td>61.754715</td>\n",
       "      <td>0.377169</td>\n",
       "      <td>14.658120</td>\n",
       "      <td>1.305021e+12</td>\n",
       "      <td>268600155355</td>\n",
       "      <td>12.115618</td>\n",
       "      <td>12.476259</td>\n",
       "      <td>12.515145</td>\n",
       "      <td>12.572289</td>\n",
       "      <td>12.584593</td>\n",
       "      <td>12.584593</td>\n",
       "      <td>12.584593</td>\n",
       "      <td>12.584593</td>\n",
       "    </tr>\n",
       "    <tr>\n",
       "      <th>1</th>\n",
       "      <td>1</td>\n",
       "      <td>-41.089805</td>\n",
       "      <td>62.125393</td>\n",
       "      <td>0.385860</td>\n",
       "      <td>14.089678</td>\n",
       "      <td>7.850036e+11</td>\n",
       "      <td>397200155355</td>\n",
       "      <td>11.894872</td>\n",
       "      <td>11.958520</td>\n",
       "      <td>11.985133</td>\n",
       "      <td>11.995679</td>\n",
       "      <td>11.995679</td>\n",
       "      <td>11.995679</td>\n",
       "      <td>11.995679</td>\n",
       "      <td>11.995679</td>\n",
       "    </tr>\n",
       "    <tr>\n",
       "      <th>2</th>\n",
       "      <td>2</td>\n",
       "      <td>-39.809490</td>\n",
       "      <td>62.668306</td>\n",
       "      <td>0.374379</td>\n",
       "      <td>14.383239</td>\n",
       "      <td>5.800606e+11</td>\n",
       "      <td>449800155355</td>\n",
       "      <td>11.763473</td>\n",
       "      <td>12.158964</td>\n",
       "      <td>12.191358</td>\n",
       "      <td>12.205451</td>\n",
       "      <td>12.217457</td>\n",
       "      <td>12.218066</td>\n",
       "      <td>12.218066</td>\n",
       "      <td>12.218066</td>\n",
       "    </tr>\n",
       "    <tr>\n",
       "      <th>3</th>\n",
       "      <td>3</td>\n",
       "      <td>-41.168704</td>\n",
       "      <td>61.504270</td>\n",
       "      <td>0.377054</td>\n",
       "      <td>14.287383</td>\n",
       "      <td>6.616984e+11</td>\n",
       "      <td>562900155355</td>\n",
       "      <td>11.820660</td>\n",
       "      <td>12.242907</td>\n",
       "      <td>12.271576</td>\n",
       "      <td>12.326310</td>\n",
       "      <td>12.339697</td>\n",
       "      <td>12.339697</td>\n",
       "      <td>12.339697</td>\n",
       "      <td>12.339697</td>\n",
       "    </tr>\n",
       "    <tr>\n",
       "      <th>4</th>\n",
       "      <td>4</td>\n",
       "      <td>-41.012162</td>\n",
       "      <td>61.380974</td>\n",
       "      <td>0.435655</td>\n",
       "      <td>14.141557</td>\n",
       "      <td>4.252299e+11</td>\n",
       "      <td>467800155338</td>\n",
       "      <td>11.628624</td>\n",
       "      <td>11.994025</td>\n",
       "      <td>12.073444</td>\n",
       "      <td>12.181086</td>\n",
       "      <td>12.181086</td>\n",
       "      <td>12.181086</td>\n",
       "      <td>12.181086</td>\n",
       "      <td>12.181086</td>\n",
       "    </tr>\n",
       "  </tbody>\n",
       "</table>\n",
       "</div>"
      ],
      "text/plain": [
       "   Unnamed: 0        dec         ra  redshift  halo_mass  stellar_mass  \\\n",
       "0           0 -39.595058  61.754715  0.377169  14.658120  1.305021e+12   \n",
       "1           1 -41.089805  62.125393  0.385860  14.089678  7.850036e+11   \n",
       "2           2 -39.809490  62.668306  0.374379  14.383239  5.800606e+11   \n",
       "3           3 -41.168704  61.504270  0.377054  14.287383  6.616984e+11   \n",
       "4           4 -41.012162  61.380974  0.435655  14.141557  4.252299e+11   \n",
       "\n",
       "        halo_id  central_sm    sm_0.50    sm_0.67     sm_1.0     sm_1.5  \\\n",
       "0  268600155355   12.115618  12.476259  12.515145  12.572289  12.584593   \n",
       "1  397200155355   11.894872  11.958520  11.985133  11.995679  11.995679   \n",
       "2  449800155355   11.763473  12.158964  12.191358  12.205451  12.217457   \n",
       "3  562900155355   11.820660  12.242907  12.271576  12.326310  12.339697   \n",
       "4  467800155338   11.628624  11.994025  12.073444  12.181086  12.181086   \n",
       "\n",
       "      sm_2.0     sm_3.0  stellarmass  \n",
       "0  12.584593  12.584593    12.584593  \n",
       "1  11.995679  11.995679    11.995679  \n",
       "2  12.218066  12.218066    12.218066  \n",
       "3  12.339697  12.339697    12.339697  \n",
       "4  12.181086  12.181086    12.181086  "
      ]
     },
     "execution_count": 6,
     "metadata": {},
     "output_type": "execute_result"
    }
   ],
   "source": [
    "gal_df = pd.read_csv(\"~/Data/galaxies_near_clusters_0.3-0.6.csv\", index_col=0)\n",
    "cluster_data = pd.read_csv(\"~/Data/cluster_data_0.3-0.6.csv\")\n",
    "cluster_data.head()"
   ]
  },
  {
   "cell_type": "code",
   "execution_count": 58,
   "id": "ff527c37-f1cf-4b60-91c6-74b505bdd53b",
   "metadata": {},
   "outputs": [
    {
     "name": "stdout",
     "output_type": "stream",
     "text": [
      "highest mass cluster:    251\n",
      "79700142331\n",
      "(1050, 15) (1050, 12) (1050,) (1050,)\n"
     ]
    }
   ],
   "source": [
    "print(\"highest mass cluster:   \",np.argmax(cluster_data[\"halo_mass\"]))\n",
    "z=cluster_data.iloc[251]; print (z[\"halo_id\"].astype(\"int\"))\n",
    "\n",
    "galaxies[\"memb_prob\"] = membership\n",
    "zz = gal_df[gal_df[\"cluster_id\"]==79700142331]; \n",
    "zz_id = zz.index\n",
    "zg=galaxies[galaxies[\"id\"].isin(zz_id)]  # vector instead of scalar or matching length\n",
    "print(zz.shape, zg.shape, zz_id.shape, np.unique(zz_id).shape)"
   ]
  },
  {
   "cell_type": "code",
   "execution_count": 16,
   "id": "2f813019-3d52-4fb8-a18b-19b751b4f6f2",
   "metadata": {},
   "outputs": [
    {
     "name": "stdout",
     "output_type": "stream",
     "text": [
      "if member, sum(memb_prob*sm):   12.550940794848632 12.647303\n"
     ]
    }
   ],
   "source": [
    "sm = (zg[\"memb_prob\"]*zg[\"member\"]*10**(zg[\"stellarmass\"])).sum(); \n",
    "sm = np.log10(sm); print(\"if member, sum(memb_prob*sm):  \",sm, z[\"stellarmass\"])"
   ]
  },
  {
   "cell_type": "code",
   "execution_count": 117,
   "id": "eb3fbc4d-ac73-4f5c-b389-644a2c79e6de",
   "metadata": {},
   "outputs": [
    {
     "name": "stdout",
     "output_type": "stream",
     "text": [
      "   Unnamed: 0        dec         ra  redshift  halo_mass  stellar_mass  \\\n",
      "0           0 -39.595058  61.754715  0.377169  14.658120  1.305021e+12   \n",
      "1           1 -41.089805  62.125393  0.385860  14.089678  7.850036e+11   \n",
      "2           2 -39.809490  62.668306  0.374379  14.383239  5.800606e+11   \n",
      "3           3 -41.168704  61.504270  0.377054  14.287383  6.616984e+11   \n",
      "4           4 -41.012162  61.380974  0.435655  14.141557  4.252299e+11   \n",
      "\n",
      "        halo_id  central_sm    sm_0.50    sm_0.67     sm_1.0     sm_1.5  \\\n",
      "0  268600155355   12.115618  12.476259  12.515145  12.572289  12.584593   \n",
      "1  397200155355   11.894872  11.958520  11.985133  11.995679  11.995679   \n",
      "2  449800155355   11.763473  12.158964  12.191358  12.205451  12.217457   \n",
      "3  562900155355   11.820660  12.242907  12.271576  12.326310  12.339697   \n",
      "4  467800155338   11.628624  11.994025  12.073444  12.181086  12.181086   \n",
      "\n",
      "      sm_2.0     sm_3.0  stellarmass  \n",
      "0  12.584593  12.584593    12.584593  \n",
      "1  11.995679  11.995679    11.995679  \n",
      "2  12.218066  12.218066    12.218066  \n",
      "3  12.339697  12.339697    12.339697  \n",
      "4  12.181086  12.181086    12.181086   \n",
      "\n",
      "stellar_mass is central galaxy, stellarmass is the total cluster stellar mass\n"
     ]
    }
   ],
   "source": [
    "print(cluster_data.head(), \"\\n\\nstellar_mass is central galaxy, stellarmass is the total cluster stellar mass\")"
   ]
  },
  {
   "cell_type": "code",
   "execution_count": 17,
   "id": "745e48aa-5796-436d-894e-392a49a8b30f",
   "metadata": {},
   "outputs": [
    {
     "name": "stdout",
     "output_type": "stream",
     "text": [
      "     radius  delta-pz  stellarmass      cl_z      i_mag       u-g       g-r  \\\n",
      "0  1.390108 -0.296234    14.101338  0.377169  16.710154  1.717278  0.932936   \n",
      "1  0.316237 -0.191917    12.542130  0.377169  17.553968  1.706240  1.123459   \n",
      "2  0.288371 -0.175732    11.345499  0.377169  19.848861  1.695599  1.063702   \n",
      "3  0.275092 -0.258053    12.671572  0.377169  19.362929  1.733788  1.121321   \n",
      "4  1.672411 -0.181209    11.965657  0.377169  18.689300  1.673197  1.098970   \n",
      "\n",
      "        r-i       i-z  member  id     memb_prob  \n",
      "0  0.455732  0.321991       0   0  4.371683e-36  \n",
      "1  0.494001  0.287647       0   1  1.093713e-08  \n",
      "2  0.464962  0.269772       0   2  3.830897e-07  \n",
      "3  0.481617  0.299284       0   3  5.023689e-11  \n",
      "4  0.491835  0.312542       0   4  9.455622e-21  \n"
     ]
    }
   ],
   "source": [
    "gal_df.shape, cluster_data.shape\n",
    "print(galaxies.head())"
   ]
  },
  {
   "cell_type": "code",
   "execution_count": 7,
   "id": "1a2ac5bc-4ef6-4ad5-8176-a9d7ca0f50c7",
   "metadata": {},
   "outputs": [
    {
     "data": {
      "image/png": "[encoded data removed]",
      "text/plain": [
       "<Figure size 432x288 with 1 Axes>"
      ]
     },
     "metadata": {
      "needs_background": "light"
     },
     "output_type": "display_data"
    }
   ],
   "source": [
    "galaxies[\"memb_prob\"] = membership\n",
    "cnt,bins,junk=plt.hist(galaxies[galaxies[\"memb_prob\"]>0.1][\"radius\"], bins=100, weights=membership[membership>0.1])"
   ]
  },
  {
   "cell_type": "code",
   "execution_count": 27,
   "id": "eba0c89f-58ad-4a54-94bb-f598384ceaf7",
   "metadata": {},
   "outputs": [
    {
     "name": "stderr",
     "output_type": "stream",
     "text": [
      "/tmp/ipykernel_44342/2722077194.py:36: RuntimeWarning: invalid value encountered in true_divide\n",
      "  sns.scatterplot(x=bins[1:], y=cnt/acnt, ax=axes[1])\n",
      "/tmp/ipykernel_44342/2722077194.py:36: RuntimeWarning: invalid value encountered in true_divide\n",
      "  sns.scatterplot(x=bins[1:], y=cnt/acnt, ax=axes[1])\n",
      "/tmp/ipykernel_44342/2722077194.py:36: RuntimeWarning: invalid value encountered in true_divide\n",
      "  sns.scatterplot(x=bins[1:], y=cnt/acnt, ax=axes[1])\n",
      "/tmp/ipykernel_44342/2722077194.py:36: RuntimeWarning: invalid value encountered in true_divide\n",
      "  sns.scatterplot(x=bins[1:], y=cnt/acnt, ax=axes[1])\n",
      "/tmp/ipykernel_44342/2722077194.py:40: RuntimeWarning: divide by zero encountered in true_divide\n",
      "  sns.scatterplot(x=bins[1:], y=cnt/acnt, ax=axes[1], color=\"k\")\n",
      "/tmp/ipykernel_44342/2722077194.py:40: RuntimeWarning: invalid value encountered in true_divide\n",
      "  sns.scatterplot(x=bins[1:], y=cnt/acnt, ax=axes[1], color=\"k\")\n"
     ]
    },
    {
     "data": {
      "image/png": "[encoded data removed]",
      "text/plain": [
       "<Figure size 936x432 with 2 Axes>"
      ]
     },
     "metadata": {
      "needs_background": "light"
     },
     "output_type": "display_data"
    }
   ],
   "source": [
    "fig, axes = plt.subplots(nrows=1, ncols=2, figsize=(13, 6), constrained_layout=True)\n",
    "axes[0].set_yscale(\"log\")\n",
    "\n",
    "lim_prob = 1e-3\n",
    "inside = galaxies[galaxies[\"memb_prob\"]>lim_prob]\n",
    "weights = membership[membership>lim_prob]\n",
    "cnt,bins=np.histogram(inside[\"radius\"], bins=bins, weights=weights)\n",
    "\n",
    "for lim_prob in [1e-3, 1e-2, 0.1, 0.2]:\n",
    "    inside = galaxies[galaxies[\"memb_prob\"]>lim_prob]\n",
    "    weights = membership[membership>lim_prob]#*inside[\"member\"] # membership_prob * member is the best performance\n",
    "    cnt,abins=np.histogram(inside[\"radius\"], bins=bins, weights=weights)\n",
    "    sns.scatterplot(x=bins[1:], y=cnt/(bins[1:]**2), ax=axes[0])\n",
    "    \n",
    "inside = galaxies[galaxies[\"member\"]==1]\n",
    "cnt,bins=np.histogram(inside[\"radius\"], bins=100)\n",
    "#sns.lineplot(x=bins[1:], y=cnt/(bins[1:]**2), color=\"k\",  ax=axes[0])\n",
    "sns.scatterplot(x=bins[1:], y=cnt/(bins[1:]**2), ax=axes[0], color=\"k\")\n",
    "axes[0].set_xlabel(\"radius (Mpc)\")\n",
    "axes[0].set_ylabel(r\"$\\sum$galaxies$/2\\pi r^2$\")\n",
    "axes[0].legend(labels=[r\"$p>10^{-3}$\",r\"$p>10^{-2}$\",r\"$p>10^{-1}$\",r\"$p>0.2$\", \"truth\"])\n",
    "\n",
    "# inside = galaxies[galaxies[\"member\"]==1]\n",
    "# acnt,bins=np.histogram(inside[\"radius\"], bins=100)\n",
    "\n",
    "lim_prob = 1e-3\n",
    "inside = galaxies[galaxies[\"memb_prob\"]>lim_prob]\n",
    "weights = membership[membership>lim_prob]\n",
    "acnt,bins=np.histogram(inside[\"radius\"], bins=bins, weights=weights)\n",
    "\n",
    "for lim_prob in [1e-3, 1e-2, 0.1, 0.2]:\n",
    "\n",
    "    inside = galaxies[galaxies[\"memb_prob\"]>lim_prob]\n",
    "    weights = membership[membership>lim_prob]#*inside[\"member\"] # membership_prob * member is the best performance\n",
    "    cnt,xbins=np.histogram(inside[\"radius\"], bins=bins, weights=weights)\n",
    "    sns.scatterplot(x=bins[1:], y=cnt/acnt, ax=axes[1])\n",
    "    \n",
    "inside = galaxies[galaxies[\"member\"]==1]\n",
    "cnt,bins=np.histogram(inside[\"radius\"], bins=100)\n",
    "sns.scatterplot(x=bins[1:], y=cnt/acnt, ax=axes[1], color=\"k\")\n",
    "axes[1].set_ylim(-0.5,2.0)\n",
    "    \n",
    "axes[1].set_xlabel(\"radius (Mpc)\")\n",
    "axes[1].set_ylabel(r\"$\\sum$galaxies$/\\sum$galaxies$(p_i>10^{-3})$\")\n",
    "axes[1].legend(labels=[r\"$p>10^{-3}$\",r\"$p>10^{-2}$\",r\"$p>10^{-1}$\",r\"$p>0.2$\", \"truth\"])\n",
    "#plt.savefig(\"radial_profile.png\")\n",
    "\n",
    "#"
   ]
  },
  {
   "cell_type": "code",
   "execution_count": 8,
   "id": "388887ea-8507-4173-8b33-d4512c0fca1d",
   "metadata": {},
   "outputs": [],
   "source": [
    "#gal_df = pd.read_csv(\"~/Data/galaxies_near_clusters_0.3-0.6.csv\", index_col=0)\n",
    "galaxies[\"memb_prob\"] = membership\n",
    "\n",
    "list_sm = []; list_rsm = []\n",
    "for hid,sm in zip(cluster_data[\"halo_id\"], cluster_data[\"stellarmass\"]) :\n",
    "#print(\"===================== truth is sm_1.0 stellar mass within 1 mpc ===============\")\n",
    "#for hid,sm in zip(cluster_data[\"halo_id\"], cluster_data[\"sm_1.0\"]) :\n",
    "\n",
    "\n",
    "    this = gal_df[gal_df[\"cluster_id\"]==hid]\n",
    "    these = galaxies[galaxies[\"id\"].isin(this.index)]\n",
    "    \n",
    "    these = these[these[\"radius\"]<= 0.67]\n",
    "    \n",
    "    # sum(memb_prob*sm)\n",
    "    recovered_sm = (these[\"memb_prob\"]*10**(these[\"stellarmass\"])).sum()\n",
    "    # sum(sm):\n",
    "    #recovered_sm = (10**(these[\"stellarmass\"])).sum()\n",
    "    \n",
    "    recovered_sm = np.log10(recovered_sm)\n",
    "    #print(\"hid total_sm recovered_sm delta: {:d} {:.2f} {:.2f} {:.2f}\".format(hid, sm, recovered_sm, sm-recovered_sm))\n",
    "    list_sm.append(sm)\n",
    "    list_rsm.append(recovered_sm)\n",
    "sm = np.array(list_sm)\n",
    "rsm = np.array(list_rsm)\n"
   ]
  },
  {
   "cell_type": "code",
   "execution_count": 9,
   "id": "fa6c6659-11f9-4b02-9c8f-6d172c9c994f",
   "metadata": {},
   "outputs": [
    {
     "name": "stdout",
     "output_type": "stream",
     "text": [
      "   Unnamed: 0        dec         ra  redshift  halo_mass  stellar_mass  \\\n",
      "0           0 -39.595058  61.754715  0.377169  14.658120  1.305021e+12   \n",
      "1           1 -41.089805  62.125393  0.385860  14.089678  7.850036e+11   \n",
      "2           2 -39.809490  62.668306  0.374379  14.383239  5.800606e+11   \n",
      "3           3 -41.168704  61.504270  0.377054  14.287383  6.616984e+11   \n",
      "4           4 -41.012162  61.380974  0.435655  14.141557  4.252299e+11   \n",
      "\n",
      "        halo_id  central_sm    sm_0.50    sm_0.67     sm_1.0     sm_1.5  \\\n",
      "0  268600155355   12.115618  12.476259  12.515145  12.572289  12.584593   \n",
      "1  397200155355   11.894872  11.958520  11.985133  11.995679  11.995679   \n",
      "2  449800155355   11.763473  12.158964  12.191358  12.205451  12.217457   \n",
      "3  562900155355   11.820660  12.242907  12.271576  12.326310  12.339697   \n",
      "4  467800155338   11.628624  11.994025  12.073444  12.181086  12.181086   \n",
      "\n",
      "      sm_2.0     sm_3.0  stellarmass  measured_sm  \n",
      "0  12.584593  12.584593    12.584593    12.491581  \n",
      "1  11.995679  11.995679    11.995679    12.111751  \n",
      "2  12.218066  12.218066    12.218066    12.208368  \n",
      "3  12.339697  12.339697    12.339697    12.358756  \n",
      "4  12.181086  12.181086    12.181086    12.131789  \n"
     ]
    }
   ],
   "source": [
    "cluster_data[\"measured_sm\"]=rsm\n",
    "#cluster_data= cluster_data.drop(columns=\"stellar_mass\")\n",
    "#cluster_data= cluster_data.drop(columns=\"Unnamed: 0\")\n",
    "print(cluster_data.head())\n",
    "# stellar_mass comes with the is_central selection- it is the central galaxy stellar mass\n",
    "# central_sm = stellar_mass then drop(stellar_mass) but it is stll there!\n",
    "#cluster_data.to_csv(\"~/Data/cluster_data_0.3-0.6-msm.csv\")\n",
    "\n",
    "#"
   ]
  },
  {
   "cell_type": "code",
   "execution_count": 23,
   "id": "1162559a-bdaa-4dfc-ba80-792bf3890a23",
   "metadata": {},
   "outputs": [
    {
     "name": "stdout",
     "output_type": "stream",
     "text": [
      "mean and std: 0.04 0.09\n"
     ]
    },
    {
     "data": {
      "image/png": "[encoded data removed]",
      "text/plain": [
       "<Figure size 864x432 with 2 Axes>"
      ]
     },
     "metadata": {
      "needs_background": "light"
     },
     "output_type": "display_data"
    }
   ],
   "source": [
    "#ix = (sm-rsm) < -1.0\n",
    "#print(\"outlier number: \", sm[ix].shape)\n",
    "#ix = (sm-rsm) > -1.0\n",
    "#print(\"keep number: \", sm[ix].shape)\n",
    "\n",
    "fig, axes = plt.subplots(nrows=1, ncols=2, figsize=(12, 6), constrained_layout=True)\n",
    "sns.regplot(x=sm,y=rsm, ax=axes[0])\n",
    "axes[0].set_xlabel(\"total cluster stellar mass\");axes[0].set_ylabel(r\"$\\widehat{M_s} = \\sum_i c_i p_{i,m} M_s \\quad c_i \\in {0,1}$\")\n",
    "\n",
    "delta = (rsm-sm)\n",
    "sns.histplot(delta, kde=True, bins=30, ax=axes[1])\n",
    "axes[1].set_xlabel(\"$ \\widehat{M_s} - M_{cl}$ \");#axes[1].set_ylabel(r\"$\\widehat{M_s} = \\sum_i c_i p_{i,m} M_s \\quad c_i \\in {0,1}$\")\n",
    "\n",
    "\n",
    "print(\"mean and std: {:.2f} {:.2f}\".format(delta.mean(), delta.std()))\n",
    "\n",
    "# would love to try Geosciences' sinh-arcsinh distribution\n",
    "doSkewNorm=False\n",
    "if doSkewNorm:\n",
    "    a, loc, scale= scipy.stats.skewnorm.fit(delta); \n",
    "    print(loc, scale, a)\n",
    "    rv = scipy.stats.skewnorm(loc=loc, scale=scale,a=a)\n",
    "    x=np.arange(-0.10,0.15,0.01)\n",
    "    axes.plot(x, rv.pdf(x), 'k-', lw=2, label='frozen pdf')\n",
    "    print(\"skewnorm is a lousy fit\")\n",
    "#plt.savefig(\"stellar_mass.png\")"
   ]
  },
  {
   "cell_type": "code",
   "execution_count": 34,
   "id": "c3437361-b108-4f97-bc58-c04245f8f7af",
   "metadata": {},
   "outputs": [
    {
     "name": "stdout",
     "output_type": "stream",
     "text": [
      "517600143355\n",
      "halo mass cluster:    14.155895111789272\n",
      "sum(memb_prob*sm):   12.4165664674396 11.938973\n",
      "sum(sm):   12.985245058030278 11.938973\n"
     ]
    }
   ],
   "source": [
    "id = np.argmin(sm-rsm)\n",
    "\n",
    "z=cluster_data.iloc[id]; \n",
    "print (z[\"halo_id\"].astype(\"int\"))\n",
    "print(\"halo mass cluster:   \",z[\"halo_mass\"])\n",
    "\n",
    "zz = gal_df[gal_df[\"cluster_id\"]==z[\"halo_id\"].astype(\"int\")]; \n",
    "zz_id = zz.index\n",
    "zg=galaxies[galaxies[\"id\"].isin(zz_id)]  # vector instead of scalar or matching length\n",
    "zg = zg[zg[\"memb_prob\"]>1e-3]\n",
    "\n",
    "tsm = (zg[\"memb_prob\"]*10**(zg[\"stellarmass\"])).sum(); tsm = np.log10(tsm); \n",
    "print(\"sum(memb_prob*sm):  \", tsm, z[\"stellarmass\"])\n",
    "\n",
    "tsm = (10**(zg[\"stellarmass\"])).sum(); tsm = np.log10(tsm); \n",
    "print(\"sum(sm):  \",tsm, z[\"stellarmass\"])\n",
    "\n",
    "#tsm = (zg[\"memb_prob\"]*zg[\"member\"]*10**(zg[\"stellarmass\"])).sum(); tsm = np.log10(tsm); \n",
    "#print(\"if member, sum(memb_prob*sm):  \",tsm, z[\"stellarmass\"])"
   ]
  },
  {
   "cell_type": "code",
   "execution_count": 10,
   "id": "639aa572-2f87-48e2-a2b2-296387eee462",
   "metadata": {},
   "outputs": [
    {
     "name": "stdout",
     "output_type": "stream",
     "text": [
      "X, y: (229314, 9) (229314,)\n",
      "(229,) (229,)\n",
      "(229,)\n"
     ]
    }
   ],
   "source": [
    "rdf=pd.DataFrame({\"rsm\":rsm,\"sm\":sm})\n",
    "rsm_train,rsm_test = sklearn.model_selection.train_test_split(rdf, train_size=0.80)\n",
    "\n",
    "Xsm_train = rsm_train[rsm_train.columns[:-1]]\n",
    "ysm_train  = rsm_train[rsm_train.columns[-1]]\n",
    "print(\"X, y:\", X.shape, y.shape)\n",
    "Xsm_test = rsm_test[rsm_test.columns[:-1]]\n",
    "ysm_test = rsm_test[rsm_test.columns[-1]]\n",
    "#sm_train = tf.data.Dataset.from_tensor_slices( (Xsm, ysm))#.shuffle(10000).batch(1000)\n",
    "\n",
    "Xsm_train = tf.squeeze(Xsm_train)\n",
    "ysm_train = tf.squeeze(ysm_train)\n",
    "Xsm_test = tf.squeeze(Xsm_test)\n",
    "ysm_test = tf.squeeze(ysm_test)\n",
    "print(Xsm_train.shape, ysm_train.shape)\n",
    "print((Xsm_train-ysm_train).shape)\n",
    "\n",
    "#rsm=np.squeeze(rsm); sm=np.squeeze(sm); print(rsm.shape,sm.shape)"
   ]
  },
  {
   "cell_type": "code",
   "execution_count": 70,
   "id": "a5bdee5f-9333-470e-a95d-2534542cc400",
   "metadata": {},
   "outputs": [
    {
     "name": "stdout",
     "output_type": "stream",
     "text": [
      "\n",
      "\n",
      "===============\n",
      "optimizing time: 11.099762 seconds\n",
      "Model: \"sequential_16\"\n",
      "_________________________________________________________________\n",
      " Layer (type)                Output Shape              Param #   \n",
      "=================================================================\n",
      " dense_20 (Dense)            (None, 8)                 16        \n",
      "                                                                 \n",
      " dense_21 (Dense)            (None, 2)                 18        \n",
      "                                                                 \n",
      " distribution_lambda_16 (Dis  ((None, None),           0         \n",
      " tributionLambda)             (None, None))                      \n",
      "                                                                 \n",
      "=================================================================\n",
      "Total params: 34\n",
      "Trainable params: 34\n",
      "Non-trainable params: 0\n",
      "_________________________________________________________________\n",
      "None\n"
     ]
    }
   ],
   "source": [
    "# this code, the tfp.distributions.SinhArcsinh, seems buggy\n",
    "\n",
    "negloglik = lambda y, rv_y: -rv_y.log_prob(y)\n",
    "model = tf.keras.Sequential([\n",
    "  tf.keras.layers.Dense(8),\n",
    "  tf.keras.layers.Dense(2),\n",
    "  tfp.layers.DistributionLambda(\n",
    "#      lambda t: tfp.distributions.SinhArcsinh(loc=t[..., :1],  #scale=0.018)),\n",
    "#                scale=t[..., 1:], skewness=t[..., :1])), #tailweight=1.0)),\n",
    "      lambda t: tfp.distributions.LogNormal(loc=t[..., :1],  scale=t[..., 1:], ))\n",
    "])\n",
    "\n",
    "start = time.time()\n",
    "# Do inference.\n",
    "model.compile(optimizer=tf.optimizers.Adam(learning_rate=0.05), loss=negloglik)\n",
    "model.fit(Xsm, ysm, epochs=1000, verbose=False)\n",
    "end = time.time()\n",
    "print(\"\\n\\n===============\")\n",
    "print(\"optimizing time: {:2f} seconds\".format(end - start))\n",
    "\n",
    "print(model.summary())"
   ]
  },
  {
   "cell_type": "code",
   "execution_count": 14,
   "id": "25022923-1c8a-4f16-8d9a-a9e6bab7fe01",
   "metadata": {
    "tags": []
   },
   "outputs": [
    {
     "name": "stdout",
     "output_type": "stream",
     "text": [
      "WARNING:tensorflow:@custom_gradient grad_fn has 'variables' in signature, but no ResourceVariables were used on the forward pass.\n",
      "WARNING:tensorflow:@custom_gradient grad_fn has 'variables' in signature, but no ResourceVariables were used on the forward pass.\n",
      "\n",
      "\n",
      "===============\n",
      "optimizing time: 49.846210 seconds\n",
      "Model: \"model_1\"\n",
      "__________________________________________________________________________________________________\n",
      " Layer (type)                   Output Shape         Param #     Connected to                     \n",
      "==================================================================================================\n",
      " input_2 (InputLayer)           [(None, 1)]          0           []                               \n",
      "                                                                                                  \n",
      " dense_8 (Dense)                (None, 2)            4           ['input_2[0][0]']                \n",
      "                                                                                                  \n",
      " dense_9 (Dense)                (None, 1)            3           ['dense_8[0][0]']                \n",
      "                                                                                                  \n",
      " dense_10 (Dense)               (None, 1)            3           ['dense_8[0][0]']                \n",
      "                                                                                                  \n",
      " dense_11 (Dense)               (None, 1)            3           ['dense_8[0][0]']                \n",
      "                                                                                                  \n",
      " dense_12 (Dense)               (None, 1)            3           ['dense_8[0][0]']                \n",
      "                                                                                                  \n",
      " concatenate_1 (Concatenate)    (None, 4)            0           ['dense_9[0][0]',                \n",
      "                                                                  'dense_10[0][0]',               \n",
      "                                                                  'dense_11[0][0]',               \n",
      "                                                                  'dense_12[0][0]']               \n",
      "                                                                                                  \n",
      "==================================================================================================\n",
      "Total params: 16\n",
      "Trainable params: 16\n",
      "Non-trainable params: 0\n",
      "__________________________________________________________________________________________________\n",
      "None\n"
     ]
    }
   ],
   "source": [
    "\n",
    "from tensorflow.keras.initializers import RandomNormal , Zeros\n",
    "\n",
    "INPUT_SHAPE = 1 \n",
    "N_HIDDENS = 10 \n",
    "N_HIDDENS = 2\n",
    "SEED = 99\n",
    "\n",
    "\n",
    "# Loss function\n",
    "\n",
    "def RegressLossExpSigma(y_true , y_pred): \n",
    "    mu = y_pred[:, 0]\n",
    "    std = tf.math.exp(y_pred[:, 1]) \n",
    "    skew = y_pred[:, 2]\n",
    "    tau = tf.math.exp(y_pred[:, 3])\n",
    "    #tau = 1.0\n",
    "    cond_dist = tfp.distributions.SinhArcsinh(loc=mu, scale=std, skewness=skew, tailweight=tau)\n",
    "    loss = -cond_dist.log_prob(y_true[:, 0])\n",
    "    return tf.reduce_mean(loss, axis=-1)\n",
    "\n",
    "inputs = tf.keras.Input(shape=INPUT_SHAPE) \n",
    "x = inputs\n",
    "# initialize a single hidden layer\n",
    "x = tf.keras.layers.Dense(\n",
    "    N_HIDDENS,\n",
    "    #activation=\"relu\",\n",
    "    activation=\"linear\",\n",
    "    use_bias=True,\n",
    "    bias_initializer=RandomNormal(seed=SEED),\n",
    "    kernel_initializer=RandomNormal(seed=SEED),\n",
    ")(x)\n",
    "\n",
    "\n",
    "# set final output units separately\n",
    "mu_unit = tf.keras.layers.Dense( \n",
    "    1,\n",
    "    activation=\"linear\",\n",
    "    use_bias=True, \n",
    "    bias_initializer=RandomNormal(seed=SEED), \n",
    "    kernel_initializer=RandomNormal(seed=SEED),\n",
    ")(x)\n",
    "\n",
    "logsigma_unit = tf.keras.layers.Dense( \n",
    "    1,\n",
    "    activation=\"linear\", \n",
    "    use_bias=True, \n",
    "    bias_initializer=Zeros(), \n",
    "    kernel_initializer=Zeros(),\n",
    ")(x)\n",
    "\n",
    "skew_unit = tf.keras.layers.Dense( \n",
    "    1,\n",
    "    activation=\"linear\", \n",
    "    use_bias=True, \n",
    "    bias_initializer=Zeros(), \n",
    "    kernel_initializer=Zeros(),\n",
    ")(x)\n",
    "\n",
    "logtau_unit = tf.keras.layers.Dense( \n",
    "    1,\n",
    "    activation=\"linear\", \n",
    "    use_bias=True, \n",
    "    bias_initializer=Zeros(), \n",
    "    kernel_initializer=Zeros(),\n",
    ")(x)\n",
    "\n",
    "output_layer = tf.keras.layers.concatenate([mu_unit , logsigma_unit , skew_unit , logtau_unit], axis=1)\n",
    "#output_layer =  tf.keras.layers.concatenate([mu_unit , logsigma_unit , skew_unit ] , axis=1)\n",
    "\n",
    "model = tf.keras.Model(inputs=inputs, outputs=output_layer)\n",
    "\n",
    "start = time.time()\n",
    "model.compile(loss=RegressLossExpSigma, optimizer=tf.keras.optimizers.Adam(learning_rate=0.001))\n",
    "model.fit(Xsm_train,ysm_train, epochs=5000, verbose=0)\n",
    "#model.fit(rsm,sm, epochs=1000, verbose=0)\n",
    "end = time.time()\n",
    "print(\"\\n\\n===============\")\n",
    "print(\"optimizing time: {:2f} seconds\".format(end - start))\n",
    "\n",
    "print(model.summary())\n"
   ]
  },
  {
   "cell_type": "code",
   "execution_count": 15,
   "id": "62625457-336d-4ce1-84e7-ca71c5ce5522",
   "metadata": {},
   "outputs": [
    {
     "data": {
      "text/plain": [
       "array([[12.163018  , -2.4471545 , -0.36138642,  0.22157265],\n",
       "       [12.318361  , -2.4727528 , -0.36346447,  0.22071113],\n",
       "       [12.321059  , -2.4731975 , -0.3635006 ,  0.22069615],\n",
       "       [12.375116  , -2.4821053 , -0.36422372,  0.22039635],\n",
       "       [12.071255  , -2.432033  , -0.36015883,  0.22208157],\n",
       "       [12.130576  , -2.4418082 , -0.36095238,  0.22175258],\n",
       "       [12.555396  , -2.5118127 , -0.3666354 ,  0.21939653],\n",
       "       [12.452327  , -2.4948285 , -0.3652566 ,  0.21996814],\n",
       "       [12.479644  , -2.4993298 , -0.36562204,  0.21981664],\n",
       "       [12.611098  , -2.5209918 , -0.36738056,  0.2190876 ],\n",
       "       [12.159301  , -2.4465418 , -0.36133665,  0.22159328],\n",
       "       [12.2248125 , -2.4573371 , -0.36221305,  0.22122994],\n",
       "       [12.508311  , -2.5040536 , -0.36600554,  0.21965767],\n",
       "       [12.078032  , -2.4331496 , -0.3602495 ,  0.22204399],\n",
       "       [12.138914  , -2.4431822 , -0.36106396,  0.22170633],\n",
       "       [12.386006  , -2.4838998 , -0.36436942,  0.22033596],\n",
       "       [12.321761  , -2.4733129 , -0.36350995,  0.22069226],\n",
       "       [11.870015  , -2.3988714 , -0.35746676,  0.22319765],\n",
       "       [12.22428   , -2.4572496 , -0.36220592,  0.22123289],\n",
       "       [12.425199  , -2.490358  , -0.36489373,  0.22011861],\n",
       "       [12.631227  , -2.5243084 , -0.36764985,  0.21897596],\n",
       "       [12.243741  , -2.4604564 , -0.36246628,  0.22112496],\n",
       "       [12.307582  , -2.4709766 , -0.3633203 ,  0.22077091],\n",
       "       [11.832845  , -2.3927462 , -0.3569695 ,  0.2234038 ],\n",
       "       [12.818167  , -2.5551138 , -0.37015063,  0.2179392 ],\n",
       "       [12.953183  , -2.5773625 , -0.37195683,  0.21719038],\n",
       "       [12.171823  , -2.448605  , -0.3615042 ,  0.22152382],\n",
       "       [12.369487  , -2.4811773 , -0.36414844,  0.22042759],\n",
       "       [12.314354  , -2.4720926 , -0.3634109 ,  0.22073334],\n",
       "       [12.576148  , -2.5152326 , -0.36691302,  0.21928144],\n",
       "       [12.250128  , -2.4615088 , -0.3625517 ,  0.22108954],\n",
       "       [12.8034315 , -2.5526857 , -0.3699535 ,  0.21802092],\n",
       "       [12.160975  , -2.4468179 , -0.36135906,  0.22158399],\n",
       "       [12.163849  , -2.4472911 , -0.3613975 ,  0.22156805],\n",
       "       [12.370841  , -2.4814005 , -0.36416656,  0.22042006],\n",
       "       [12.310123  , -2.4713953 , -0.3633543 ,  0.2207568 ],\n",
       "       [12.19863   , -2.453023  , -0.3618628 ,  0.22137514],\n",
       "       [12.583255  , -2.5164037 , -0.3670081 ,  0.21924202],\n",
       "       [12.129843  , -2.4416876 , -0.3609426 ,  0.22175665],\n",
       "       [12.325166  , -2.473874  , -0.36355552,  0.22067338],\n",
       "       [12.696097  , -2.5349984 , -0.36851764,  0.2186162 ],\n",
       "       [12.0831175 , -2.4339876 , -0.36031753,  0.22201578],\n",
       "       [12.332118  , -2.4750197 , -0.36364853,  0.22063482],\n",
       "       [12.217823  , -2.4561853 , -0.36211956,  0.22126871],\n",
       "       [12.099437  , -2.436677  , -0.36053586,  0.22192527],\n",
       "       [12.214047  , -2.4555633 , -0.36206904,  0.22128965],\n",
       "       [12.146007  , -2.4443512 , -0.36115885,  0.22166699],\n",
       "       [12.417143  , -2.4890306 , -0.36478594,  0.22016329],\n",
       "       [12.354287  , -2.478673  , -0.36394513,  0.22051188],\n",
       "       [12.0267725 , -2.4247031 , -0.35956377,  0.22232826],\n",
       "       [12.384223  , -2.4836056 , -0.36434555,  0.22034585],\n",
       "       [12.437728  , -2.4924226 , -0.3650613 ,  0.22004911],\n",
       "       [12.351459  , -2.4782066 , -0.36390728,  0.22052756],\n",
       "       [12.014934  , -2.422752  , -0.3594054 ,  0.22239393],\n",
       "       [12.358644  , -2.4793909 , -0.36400336,  0.22048771],\n",
       "       [12.612205  , -2.521174  , -0.36739537,  0.21908146],\n",
       "       [11.918254  , -2.4068205 , -0.35811207,  0.22293012],\n",
       "       [12.15642   , -2.446067  , -0.36129814,  0.22160925]],\n",
       "      dtype=float32)"
      ]
     },
     "execution_count": 15,
     "metadata": {},
     "output_type": "execute_result"
    }
   ],
   "source": [
    "prediction = np.squeeze(model.predict(Xsm_test))\n",
    "prediction.view()"
   ]
  },
  {
   "cell_type": "code",
   "execution_count": 26,
   "id": "399e6a2f-0aa7-4ca3-bd21-691ea990424d",
   "metadata": {},
   "outputs": [
    {
     "name": "stdout",
     "output_type": "stream",
     "text": [
      "model shape: (58, 4)\n",
      "model shape: (4,)\n",
      "11.997697 -2.2834234 1.4102448 -3.1064394\n",
      "11.997697 0.10193464 1.4102448 0.04476004670721374\n"
     ]
    }
   ],
   "source": [
    "\n",
    "prediction = np.squeeze(model.predict(Xsm_test))\n",
    "print(\"model shape:\", prediction.shape)\n",
    "pre=tf.math.reduce_mean(prediction, axis=0)\n",
    "print(\"model shape:\", pre.shape)\n",
    "p=pre.numpy()\n",
    "\n",
    "mu=p[0]; sigma=p[1]; skew=p[2]; tau=np.log(1); \n",
    "tau = p[3]; \n",
    "print(mu,sigma,skew,tau)\n",
    "sigma=np.e**sigma; tau = np.e**tau\n",
    "\n",
    "mu=mu.astype(dtype); sigma=sigma.astype(dtype); skew=skew.astype(dtype); #tau=tau.astype(dtype)\n",
    "print(mu,sigma,skew,tau)"
   ]
  },
  {
   "cell_type": "code",
   "execution_count": 102,
   "id": "5a5d85c4-76c1-48e4-ad45-bf0ec2f8d84b",
   "metadata": {},
   "outputs": [
    {
     "name": "stdout",
     "output_type": "stream",
     "text": [
      "last run 12.249814 0.052280948 -0.09369159 1.0\n",
      "close to truth 12.2 0.018 0.22 1.0\n"
     ]
    }
   ],
   "source": [
    "print(\"last run\",mu,sigma,skew,tau)\n",
    "print(\"close to truth\",12.2,0.018,0.22,1.0)"
   ]
  },
  {
   "cell_type": "code",
   "execution_count": 41,
   "id": "8bdd638c-7685-493c-84e3-48e264ac4e36",
   "metadata": {},
   "outputs": [
    {
     "name": "stdout",
     "output_type": "stream",
     "text": [
      "prediction: (287, 3)\n",
      "12.280855 0.19809134\n",
      "0.09241999 0.0035701615\n",
      "-0.45980963 0.0082704285\n"
     ]
    }
   ],
   "source": [
    "prediction = np.squeeze(model.predict(rsm))\n",
    "print(\"prediction:\", prediction.shape)\n",
    "#prediction = tf.math.reduce_mean(prediction, axis=0)\n",
    "#print(\"prediction:\", prediction.shape)\n",
    "#prediction.view()\n",
    "p= prediction\n",
    "print(p[:,0].mean(), p[:,0].std())\n",
    "print((np.e**p[:,1]).mean(), (np.e**p[:,1]).std())\n",
    "print(p[:,2].mean(), p[:,2].std())"
   ]
  },
  {
   "cell_type": "code",
   "execution_count": 25,
   "id": "6db7452a-cc98-44c3-8ae3-26b7243a2212",
   "metadata": {},
   "outputs": [
    {
     "name": "stdout",
     "output_type": "stream",
     "text": [
      "samp: (1000, 287)\n",
      "samp: (287, 1000)\n",
      "mean and std: 0.04 0.09\n",
      "prediction: (287, 4)\n",
      "prediction: (4,)\n",
      "prediction mean loc, scale, skew:  12.28 -0.08 -0.36 1.25\n"
     ]
    },
    {
     "data": {
      "image/png": "[encoded data removed]",
      "text/plain": [
       "<Figure size 864x432 with 1 Axes>"
      ]
     },
     "metadata": {
      "needs_background": "light"
     },
     "output_type": "display_data"
    }
   ],
   "source": [
    "prediction = np.squeeze(model.predict(rsm))         # just do the whole sample\n",
    "# print(prediction.view())\n",
    "\n",
    "sa_dist = tfp.distributions.SinhArcsinh(  0,\n",
    "    tf.math.pow(np.e,prediction[:,1]), \n",
    "    skewness=-1*prediction[:,2],tailweight= tf.math.pow(np.e,prediction[:,3]))\n",
    "\n",
    "samp = sa_dist.sample(tf.constant(1000))\n",
    "print(\"samp:\", samp.shape)\n",
    "samp = tf.transpose(samp)\n",
    "print(\"samp:\", samp.shape)\n",
    "\n",
    "delta = (rsm-sm)                 # just do the whole sample\n",
    "#print(delta)\n",
    "\n",
    "\n",
    "accum = np.array([])\n",
    "for i in np.arange(samp.shape[1]).astype(int):\n",
    "    s=samp[:,i].numpy()\n",
    "    accum = np.concatenate([accum, s])\n",
    "samp = accum\n",
    "\n",
    "if 1 == 1:\n",
    "    palette = itertools.cycle(sns.color_palette())\n",
    "    # color\n",
    "    c = next(palette); \n",
    "    fig, axes = plt.subplots(nrows=1, ncols=1, figsize=(12, 6))\n",
    "\n",
    "    #axes.legend(loc='upper right')\n",
    "    sns.histplot(delta, kde=True,color=c, legend=True,stat=\"density\", bins=30)\n",
    "    c = next(palette); c = next(palette); #c = next(palette); \n",
    "\n",
    "    print(\"mean and std: {:.2f} {:.2f}\".format(delta.mean(), delta.std()))\n",
    "    # would love to try Geosciences' sinh-arcsinh distribution\n",
    "    #sns.histplot(samp, kde=True, color=c, legend=True, stat=\"density\", bins=18, alpha=0.1)\n",
    "    sns.histplot(samp, kde=True, color=c, legend=True, stat=\"density\", alpha=0.1)\n",
    "    plt.legend(labels=[\"residuals\",\"sinh\"])\n",
    "    axes.set_xlim(-0.2,0.5)\n",
    "\n",
    "prediction = np.squeeze(model.predict(rsm))\n",
    "print(\"prediction:\", prediction.shape)\n",
    "prediction = tf.math.reduce_mean(prediction, axis=0)\n",
    "print(\"prediction:\", prediction.shape)\n",
    "#prediction.view()\n",
    "\n",
    "prediction=prediction.numpy()\n",
    "print (\"prediction mean loc, scale, skew:  {:.2f} {:.2f} {:.2f} {:.2f}\".format(\n",
    "    prediction[0], -1*np.e**prediction[1], prediction[2],np.e**prediction[3], ))\n",
    "\n",
    "\n",
    "doSkewNorm = False\n",
    "if doSkewNorm: \n",
    "    x_sigma = 10*np.e**prediction[1]\n",
    "    xrange = np.arange( prediction[0]-x_sigma-12, prediction[0]+x_sigma-12,x_sigma/100.)\n",
    "\n",
    "    a, loc, scale= scipy.stats.skewnorm.fit(delta); \n",
    "    rv = scipy.stats.skewnorm(loc=loc, scale=scale,a=a)\n",
    "    print (\"skewnorm  loc, scale, skew:  {:.2f} {:.2f} {:.2f} \".format(loc, scale, a))\n",
    "\n",
    "\n",
    "    a, loc, scale= scipy.stats.skewnorm.fit(delta); \n",
    "    rv = scipy.stats.skewnorm(loc=loc, scale=scale,a=a)\n",
    "    c = next(palette)\n",
    "    axes.plot(xrange, rv.pdf(xrange), lw=2, label='frozen pdf',color=c)\n",
    "\n",
    "doNorm = False\n",
    "if doNorm: \n",
    "    loc, scale= scipy.stats.norm.fit(delta); \n",
    "    rv = scipy.stats.norm(loc=loc, scale=scale)\n",
    "    c = next(palette)\n",
    "    axes.plot(xrange, rv.pdf(xrange), lw=2, label='frozen pdf',color=\"k\")\n",
    "    print(loc, scale)"
   ]
  },
  {
   "cell_type": "markdown",
   "id": "de36460b-9bb9-42c8-8127-670f2c0c5cd9",
   "metadata": {},
   "source": [
    "###### "
   ]
  },
  {
   "cell_type": "code",
   "execution_count": 9,
   "id": "15b083ba-5770-4f7f-896d-e2df367dd366",
   "metadata": {},
   "outputs": [
    {
     "name": "stdout",
     "output_type": "stream",
     "text": [
      "0.25 0.10169642060280862 6.101785236168517\n",
      "0.35 0.08055941037740304 4.833564622644182\n",
      "0.5 0.06526093212786645 3.915655927671987\n",
      "0.65 0.0575450718947132 3.452704313682792\n"
     ]
    }
   ],
   "source": [
    "# bin 0.2-0.3, 0.3-0.4, 0.4-0.6 0.6-0.7\n",
    "cosmos=cosmology.setCosmology('planck18')\n",
    "for z in [0.25, 0.35, 0.5, 0.65]  :\n",
    "    angularDiameterDistance = cosmos.angularDiameterDistance(z)\n",
    "    degrees_per_mpc = (1./angularDiameterDistance)*(360./2/np.pi)\n",
    "    print(z, degrees_per_mpc, 60*degrees_per_mpc)\n",
    "    \n",
    "    #"
   ]
  },
  {
   "cell_type": "code",
   "execution_count": 12,
   "id": "9d5d794e-f315-4a3b-afda-cf93f0ff3f52",
   "metadata": {},
   "outputs": [
    {
     "name": "stdout",
     "output_type": "stream",
     "text": [
      "0.00 0.25:     6.1\n",
      "0.05 0.25:     6.1\n",
      "0.10 0.25:     6.1\n",
      "0.15 0.25:     6.1\n",
      "0.20 0.25:     6.1\n",
      "0.25 0.25:     6.1\n",
      "0.30 0.35:     4.8\n",
      "0.35 0.35:     4.8\n",
      "0.40 0.50:     3.9\n",
      "0.45 0.50:     3.9\n",
      "0.50 0.50:     3.9\n",
      "0.55 0.50:     3.9\n",
      "0.60 0.65:     3.5\n",
      "0.65 0.65:     3.5\n",
      "0.70 0.65:     3.5\n",
      "0.75 0.65:     3.5\n",
      "0.80 0.65:     3.5\n",
      "0.85 0.65:     3.5\n",
      "0.90 0.65:     3.5\n",
      "0.95 0.65:     3.5\n"
     ]
    }
   ],
   "source": [
    "# bin 0.2-0.3, 0.3-0.4, 0.4-0.6 0.6-0.7\n",
    "for z in np.arange(0,1,0.05):\n",
    "    if z <0.3:\n",
    "        print(\"{:4.2f} {:4.2f}:    {:4.1f}\".format( z, 0.25, 6.1))\n",
    "    elif ( (z>= 0.3) & (z< 0.4)) :\n",
    "        print(\"{:4.2f} {:4.2f}:    {:4.1f}\".format( z, 0.35, 4.8))\n",
    "    elif ( (z>= 0.4) & (z< 0.6)) :\n",
    "        print(\"{:4.2f} {:4.2f}:    {:4.1f}\".format( z, 0.5, 3.9))\n",
    "    elif z>= 0.6 :\n",
    "        print(\"{:4.2f} {:4.2f}:    {:4.1f}\".format( z, 0.65, 3.5))\n"
   ]
  },
  {
   "cell_type": "code",
   "execution_count": null,
   "id": "9e260f40-eeec-4576-8743-2f52510594c3",
   "metadata": {},
   "outputs": [],
   "source": []
  }
 ],
 "metadata": {
  "kernelspec": {
   "display_name": "tflow2",
   "language": "python",
   "name": "tflow2"
  },
  "language_info": {
   "codemirror_mode": {
    "name": "ipython",
    "version": 3
   },
   "file_extension": ".py",
   "mimetype": "text/x-python",
   "name": "python",
   "nbconvert_exporter": "python",
   "pygments_lexer": "ipython3",
   "version": "3.9.7"
  }
 },
 "nbformat": 4,
 "nbformat_minor": 5
}
