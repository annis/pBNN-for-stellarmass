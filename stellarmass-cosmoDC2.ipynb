{
 "cells": [
  {
   "cell_type": "code",
   "execution_count": 1,
   "id": "e03efe2b-1884-4196-b0e2-31f76178d2b1",
   "metadata": {},
   "outputs": [],
   "source": [
    "import GCRCatalogs\n",
    "import numpy as np\n",
    "from astropy.table import Table\n",
    "from GCR import GCRQuery\n",
    "import matplotlib.pyplot as plt\n",
    "import seaborn as sns\n",
    "import pandas as pd\n",
    "%matplotlib inline"
   ]
  },
  {
   "cell_type": "code",
   "execution_count": 2,
   "id": "8f369422-f132-4e47-a9d9-33345b6b1aed",
   "metadata": {},
   "outputs": [
    {
     "data": {
      "text/plain": [
       "dict_keys(['buzzard', 'buzzard_high-res', 'cosmoDC2_v1.1.4_image', 'cosmoDC2_v1.1.4_redmapper_v0.7.5', 'cosmoDC2_v1.1.4_small', 'dc2_object_run1.2i', 'dc2_object_run1.2i_all_columns', 'dc2_object_run1.2i_tract4850', 'dc2_object_run1.2i_with_photoz', 'dc2_object_run1.2p', 'dc2_object_run1.2p_all_columns', 'dc2_object_run1.2p_tract4850', 'dc2_object_run2.2i_dr2_wfd', 'dc2_object_run2.2i_dr2_wfd_with_addons', 'dc2_object_run2.2i_dr3a', 'dc2_object_run2.2i_dr3a_with_metacal', 'dc2_object_run2.2i_dr3a_with_photoz', 'dc2_object_run2.2i_dr6', 'dc2_object_run2.2i_dr6_with_addons', 'dc2_truth_run1.2_static', 'dc2_truth_run1.2_variable_lightcurve', 'dc2_truth_run1.2_variable_summary', 'dc2_truth_run2.2i_galaxy_truth_summary', 'dc2_truth_run2.2i_sn_truth_summary', 'dc2_truth_run2.2i_sn_variability_truth', 'dc2_truth_run2.2i_star_lc_stats', 'dc2_truth_run2.2i_star_truth_summary', 'dc2_truth_run2.2i_star_variability_truth', 'dc2_truth_run2.2i_summary_tract_partition', 'dc2_truth_run3.1i_agn_auxiliary_info', 'dc2_truth_run3.1i_agn_truth_summary', 'dc2_truth_run3.1i_agn_variability_truth', 'dc2_truth_run3.1i_lensed_agn_truth_summary', 'dc2_truth_run3.1i_lensed_agn_variability_truth', 'dc2_truth_run3.1i_lensed_host_truth_summary', 'dc2_truth_run3.1i_lensed_sn_variability_truth', 'dc2_truth_run3.1i_lensed_sne_truth_summary', 'protoDC2', 'protoDC2_run1.2', 'skysim5000_v1.1.1'])"
      ]
     },
     "execution_count": 2,
     "metadata": {},
     "output_type": "execute_result"
    }
   ],
   "source": [
    "cats=GCRCatalogs.get_available_catalogs()\n",
    "cats.keys()"
   ]
  },
  {
   "cell_type": "code",
   "execution_count": 3,
   "id": "e0ba9a6b-96b4-401f-8f0d-879832bffde2",
   "metadata": {},
   "outputs": [
    {
     "name": "stdout",
     "output_type": "stream",
     "text": [
      "dc2 sky area 439.78987\n"
     ]
    },
    {
     "data": {
      "text/plain": [
       "{'subclass_name': 'cosmodc2.SkySim5000GalaxyCatalog',\n",
       " 'catalog_root_dir': '/global/cfs/cdirs/lsst/shared/xgal/skysim//skysim5000_v1.1.1',\n",
       " 'catalog_filename_template': 'z_{}_{}.step_all.healpix_{}.hdf5',\n",
       " 'cosmology': {'H0': 71.0,\n",
       "  'Om0': 0.2648,\n",
       "  'Ob0': 0.0448,\n",
       "  'sigma8': 0.8,\n",
       "  'n_s': 0.963},\n",
       " 'lightcone': True,\n",
       " 'version': '1.1.1',\n",
       " 'check_md5': False,\n",
       " 'check_size': False,\n",
       " 'check_cosmology': False,\n",
       " 'ensure_meta_consistent': False,\n",
       " 'sky_area': 5264.05,\n",
       " 'creators': ['Andrew Hearin',\n",
       "  'Danila Korytov',\n",
       "  'Eve Kovacs',\n",
       "  'Esteban Rangel',\n",
       "  'Patricia Larsen',\n",
       "  'Joe Hollowed',\n",
       "  'Andrew Benson',\n",
       "  'Katrin Heitmann'],\n",
       " 'description': 'This is the 5000 sq. deg. extra-galactic catalog for LSST DESC\\n',\n",
       " 'include_in_default_catalog_list': True}"
      ]
     },
     "execution_count": 3,
     "metadata": {},
     "output_type": "execute_result"
    }
   ],
   "source": [
    "cats['cosmoDC2_v1.1.4_small']\n",
    "cats['cosmoDC2_v1.1.4_image']\n",
    "print(\"dc2 sky area\", cats['cosmoDC2_v1.1.4_image'][\"sky_area\"])\n",
    "cats[\"skysim5000_v1.1.1\"]"
   ]
  },
  {
   "cell_type": "code",
   "execution_count": 4,
   "id": "29185dd3-6d14-43e7-9f8f-54c3d7f9431e",
   "metadata": {},
   "outputs": [
    {
     "name": "stdout",
     "output_type": "stream",
     "text": [
      "A_v\n",
      "A_v_bulge\n",
      "A_v_disk\n",
      "Mag_true_Y_lsst_z0\n",
      "Mag_true_g_lsst_z0\n",
      "Mag_true_g_sdss_z0\n",
      "Mag_true_i_lsst_z0\n",
      "Mag_true_i_sdss_z0\n",
      "Mag_true_r_lsst_z0\n",
      "Mag_true_r_sdss_z0\n",
      "Mag_true_u_lsst_z0\n",
      "Mag_true_u_sdss_z0\n",
      "Mag_true_y_lsst_z0\n",
      "Mag_true_z_lsst_z0\n",
      "Mag_true_z_sdss_z0\n",
      "R_v\n",
      "R_v_bulge\n",
      "R_v_disk\n",
      "bulge_to_total_ratio_i\n",
      "convergence\n",
      "dec\n",
      "dec_true\n",
      "galaxy_id\n",
      "halo_id\n",
      "halo_mass\n",
      "is_central\n",
      "mag_Y_lsst\n",
      "mag_g\n",
      "mag_g_lsst\n",
      "mag_g_sdss\n",
      "mag_i\n",
      "mag_i_lsst\n",
      "mag_i_sdss\n",
      "mag_r\n",
      "mag_r_lsst\n",
      "mag_r_sdss\n",
      "mag_true_Y_lsst\n",
      "mag_true_g\n",
      "mag_true_g_lsst\n",
      "mag_true_g_sdss\n",
      "mag_true_i\n",
      "mag_true_i_lsst\n",
      "mag_true_i_sdss\n",
      "mag_true_r\n",
      "mag_true_r_lsst\n",
      "mag_true_r_sdss\n",
      "mag_true_u\n",
      "mag_true_u_lsst\n",
      "mag_true_u_sdss\n",
      "mag_true_y\n",
      "mag_true_y_lsst\n",
      "mag_true_z\n",
      "mag_true_z_lsst\n",
      "mag_true_z_sdss\n",
      "mag_u\n",
      "mag_u_lsst\n",
      "mag_u_sdss\n",
      "mag_y\n",
      "mag_y_lsst\n",
      "mag_z\n",
      "mag_z_lsst\n",
      "mag_z_sdss\n",
      "magnification\n",
      "position_angle_true\n",
      "position_x\n",
      "position_y\n",
      "position_z\n",
      "ra\n",
      "ra_true\n",
      "redshift\n",
      "redshift_true\n",
      "sersic_bulge\n",
      "sersic_disk\n",
      "shear_1\n",
      "shear_2\n",
      "shear_2_phosim\n",
      "shear_2_treecorr\n",
      "stellar_mass\n",
      "stellar_mass_bulge\n",
      "stellar_mass_disk\n",
      "velocity_x\n",
      "velocity_y\n",
      "velocity_z\n"
     ]
    }
   ],
   "source": [
    "gc = GCRCatalogs.load_catalog('cosmoDC2_v1.1.4_image')\n",
    "cols=gc.list_all_quantities()\n",
    "scols= []\n",
    "scols.append([x for x in cols if \n",
    "              (not x.startswith(\"sed\")) and \n",
    "              (not x.endswith(\"no_host_extinction\")) and \n",
    "              (not x.startswith(\"ellipticity\")) and\n",
    "              (not x.startswith(\"size\"))\n",
    "             ])\n",
    "\n",
    "print('\\n'.join(sorted(scols[0])))"
   ]
  },
  {
   "cell_type": "code",
   "execution_count": 7,
   "id": "00f570a8-b20f-48ad-8281-7a8cab785790",
   "metadata": {},
   "outputs": [],
   "source": [
    "galaxy_data = gc.get_quantities(['ra', 'dec', \"redshift\", \"stellar_mass\", \n",
    "                                 \"mag_u_lsst\", \"mag_g_lsst\", \"mag_r_lsst\", \"mag_i_lsst\", \"mag_z_lsst\",\n",
    "                                 'halo_id', 'halo_mass'], filters=['mag_r < 23', 'Mag_true_r_lsst_z0 < -19.0'])\n"
   ]
  },
  {
   "cell_type": "code",
   "execution_count": 9,
   "id": "fb49c96d-e9dd-4c64-950e-a0c6e06df608",
   "metadata": {},
   "outputs": [],
   "source": [
    "cluster_data = gc.get_quantities(['ra','dec', \"redshift\", 'halo_mass', 'halo_id'], \n",
    "                                 filters=['is_central', 'halo_mass > 1e14', 'redshift >= 0.3', 'redshift < 0.4'])\n",
    "cluster_data = pd.DataFrame(cluster_data)"
   ]
  },
  {
   "cell_type": "code",
   "execution_count": 8,
   "id": "39652fb6-6c8e-41be-b03f-47c808466d08",
   "metadata": {},
   "outputs": [
    {
     "name": "stdout",
     "output_type": "stream",
     "text": [
      "galaxies 11 <class 'dict'> 7557449\n",
      "clusters 4 <class 'dict'> 657\n",
      "cluster masses 14.000337009331494 15.051959494815463\n"
     ]
    },
    {
     "name": "stderr",
     "output_type": "stream",
     "text": [
      "/usr/local/py/envs/desc/lib/python3.8/site-packages/seaborn/_decorators.py:36: FutureWarning: Pass the following variables as keyword args: x, y. From version 0.12, the only valid positional argument will be `data`, and passing other arguments without an explicit keyword will result in an error or misinterpretation.\n",
      "  warnings.warn(\n"
     ]
    },
    {
     "data": {
      "image/png": "[encoded data removed]",
      "text/plain": [
       "<Figure size 432x288 with 1 Axes>"
      ]
     },
     "metadata": {
      "needs_background": "light"
     },
     "output_type": "display_data"
    }
   ],
   "source": [
    "print(\"galaxies\", len(galaxy_data), type(galaxy_data), galaxy_data[\"ra\"].size)\n",
    "print(\"clusters\", len(cluster_data), type(cluster_data), cluster_data[\"ra\"].size)\n",
    "sns.scatterplot(cluster_data[\"ra\"],cluster_data[\"dec\"])\n",
    "print(\"cluster masses\", np.log10(cluster_data[\"halo_mass\"].min()),np.log10(cluster_data[\"halo_mass\"].max()))"
   ]
  },
  {
   "cell_type": "code",
   "execution_count": null,
   "id": "6b147932-96bb-478e-bea1-d0521b8555c2",
   "metadata": {},
   "outputs": [],
   "source": []
  }
 ],
 "metadata": {
  "kernelspec": {
   "display_name": "desc-python",
   "language": "python",
   "name": "desc-python"
  },
  "language_info": {
   "codemirror_mode": {
    "name": "ipython",
    "version": 3
   },
   "file_extension": ".py",
   "mimetype": "text/x-python",
   "name": "python",
   "nbconvert_exporter": "python",
   "pygments_lexer": "ipython3",
   "version": "3.8.8"
  }
 },
 "nbformat": 4,
 "nbformat_minor": 5
}
