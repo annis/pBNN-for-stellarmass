{
 "cells": [
  {
   "cell_type": "markdown",
   "id": "b958391d-5c21-4579-89d0-83ca2e14f49d",
   "metadata": {},
   "source": [
    "# Fertig's version of Variational Inference using normalizing flows"
   ]
  },
  {
   "cell_type": "code",
   "execution_count": 1,
   "id": "e9c0b1e6-d327-4103-8d37-12f95c45ca48",
   "metadata": {},
   "outputs": [
    {
     "name": "stderr",
     "output_type": "stream",
     "text": [
      "2021-10-25 21:48:39.700115: W tensorflow/stream_executor/platform/default/dso_loader.cc:64] Could not load dynamic library 'libcudart.so.11.0'; dlerror: libcudart.so.11.0: cannot open shared object file: No such file or directory; LD_LIBRARY_PATH: /opt/cray/job/2.2.4-7.0.1.1_3.54__g36b56f4.ari/lib64:/opt/intel/compilers_and_libraries_2019.3.199/linux/compiler/lib/intel64:/opt/intel/compilers_and_libraries_2019.3.199/linux/mkl/lib/intel64:/usr/common/software/darshan/3.2.1/lib\n",
      "2021-10-25 21:48:39.700135: I tensorflow/stream_executor/cuda/cudart_stub.cc:29] Ignore above cudart dlerror if you do not have a GPU set up on your machine.\n"
     ]
    },
    {
     "name": "stdout",
     "output_type": "stream",
     "text": [
      "TensorFlow version: 2.8.0-dev20211012\n",
      "TensorFlow Probability version: 0.15.0-dev20211013\n",
      "WARNING: GPU device not found.\n"
     ]
    },
    {
     "name": "stderr",
     "output_type": "stream",
     "text": [
      "2021-10-25 21:48:53.593597: I tensorflow/core/platform/cpu_feature_guard.cc:151] This TensorFlow binary is optimized with oneAPI Deep Neural Network Library (oneDNN) to use the following CPU instructions in performance-critical operations:  AVX2 FMA\n",
      "To enable them in other operations, rebuild TensorFlow with the appropriate compiler flags.\n",
      "2021-10-25 21:48:53.605328: E tensorflow/stream_executor/cuda/cuda_driver.cc:271] failed call to cuInit: CUDA_ERROR_NO_DEVICE: no CUDA-capable device is detected\n",
      "2021-10-25 21:48:53.605348: I tensorflow/stream_executor/cuda/cuda_diagnostics.cc:156] kernel driver does not appear to be running on this host (nid00573): /proc/driver/nvidia/version does not exist\n"
     ]
    }
   ],
   "source": [
    "import scipy\n",
    "import numpy as np\n",
    "import pandas as pd\n",
    "from tqdm import trange\n",
    "import time\n",
    "\n",
    "#import tensorflow.compat.v2 as tf\n",
    "#tf.enable_v2_behavior()\n",
    "import tensorflow as tf\n",
    "import tensorflow_probability as tfp\n",
    "tfd = tfp.distributions\n",
    "tfb = tfp.bijectors\n",
    "\n",
    "# data splitting and outlier removal\n",
    "import  sklearn.preprocessing  # StandardScaler\n",
    "from sklearn.ensemble import IsolationForest\n",
    "import sklearn.model_selection #  train_test_split\n",
    "import colossus\n",
    "from colossus.cosmology import cosmology\n",
    "# Set tensor numeric type.\n",
    "dtype = 'float32'\n",
    "\n",
    "# Data Viz. \n",
    "import matplotlib.pyplot as plt\n",
    "import seaborn as sns\n",
    "import itertools # to cycle through palette colors\n",
    "if 1== 1 :\n",
    "  sns.set_style(\n",
    "    style='darkgrid', \n",
    "    rc={'axes.facecolor': '.9', 'grid.color': '.8'}\n",
    "  )\n",
    "sns.set_palette(palette='deep')\n",
    "#sns.set_palette(palette=\"Paired_r\")\n",
    "#sns_c = sns.color_palette(palette=\"Paired_r\")\n",
    "%matplotlib inline\n",
    "from pandas.plotting import register_matplotlib_converters\n",
    "register_matplotlib_converters()\n",
    "\n",
    "# Get TensorFlow version.\n",
    "print(f'TensorFlow version: {tf.__version__}')\n",
    "print(f'TensorFlow Probability version: {tfp.__version__}')\n",
    "\n",
    "if tf.test.gpu_device_name() != '/device:GPU:0':\n",
    "  print('WARNING: GPU device not found.')\n",
    "else:\n",
    "  print('SUCCESS: Found GPU: {}'.format(tf.test.gpu_device_name()))\n"
   ]
  },
  {
   "cell_type": "code",
   "execution_count": 11,
   "id": "87345f77-5fd9-4b96-b8d6-bd7024abe50e",
   "metadata": {},
   "outputs": [],
   "source": [
    "# for wide spread use\n",
    "# ppd_df is the output of make_posterior_predictive_distribution\n",
    "def yp_on_yt_plot (y_predictions, y_sigma, y_test, ppd_df) :\n",
    "    fig, ax = plt.subplots(nrows=1, ncols=2, figsize=(14, 5), constrained_layout=True)\n",
    "\n",
    "    ax[0].errorbar( x=np.array(y_test), y=y_predictions, yerr=y_sigma,fmt='o',\n",
    "        ecolor=\"r\", mfc=\"r\", mec=\"k\", capsize=2, label='predictions + credible intervals')\n",
    "    sns.regplot(x=np.array(y_test), y=y_predictions,\n",
    "        scatter=False, line_kws=dict(alpha=0.5), fit_reg=True, label=\"linear regression\", \n",
    "        truncate=False, ax=ax[0])\n",
    "    ax[0].plot(ppd_df[\"range\"],ppd_df[\"mean\"], color=\"black\", label=\"y=x, 90% posterior predictive\")\n",
    "    ax[0].fill_between(ppd_df[\"range\"], ppd_df[\"90l\"], ppd_df[\"90u\"], color='k', alpha=.1)\n",
    "    ax[0].set(title='Model Predictions for Test Sample', xlabel='y',ylabel='y_pred');\n",
    "    ax[0].legend(loc='lower right')\n",
    "         \n",
    "    ax[1].errorbar( x=np.array(y_test), y=y_predictions-np.array(y_test), yerr=y_sigma,fmt='o', \n",
    "        #ecolor=sns_c[1], mfc=sns_c[4],\n",
    "        ecolor=\"r\", mfc=\"r\", mec=\"k\", capsize=2, label='predictions + credible intervals',)\n",
    "    sns.regplot(x=np.array(y_test), y = y_predictions-np.array(y_test),\n",
    "        scatter=False, line_kws=dict(alpha=0.5),  fit_reg=True, label=\"linear regression\",  \n",
    "        truncate=False,  ax=ax[1])\n",
    "    ax[1].plot(ppd_df[\"range\"],np.zeros(ppd_df[\"mean\"].size), \n",
    "               color=\"black\", label=\"y=x, 90% posterior predictive\")\n",
    "    ax[1].fill_between(ppd_df[\"range\"], ppd_df[\"90l\"]-ppd_df[\"mean\"], ppd_df[\"90u\"]-ppd_df[\"mean\"], color='k', alpha=.1)\n",
    "    ax[1].set(title='Delta Model Predictions for Test Sample', xlabel='y', ylabel='y_pred');\n",
    "    ax[1].legend(loc='lower right')\n",
    "    \n",
    "def make_posterior_predictive_distribution (sigma, verbose=False) :\n",
    "    # prepare the fit and confidence interval: weirdly, assuming that the only thing that matters is sigma\n",
    "    # becuse it is a posterior predictive distribution \n",
    "    range_x = np.arange(14.0,15.0,0.05) ; \n",
    "    if verbose : print(\"range_x: \", range_x.shape)\n",
    "    range_y = tf.map_fn(\n",
    "        fn=lambda z: tfd.Normal(loc=z, scale=sigma).sample(20000), \n",
    "        elems=tf.constant(range_x , dtype=dtype )  )\n",
    "    range_y = tf.squeeze(range_y)\n",
    "    if verbose: print(\"range_y  \", range_y.shape)\n",
    "\n",
    "    range_mean = tf.math.reduce_mean(range_y, axis=1).numpy()\n",
    "    range_std = tf.math.reduce_std(range_y, axis=1).numpy()\n",
    "    range_90l = range_mean - 2*range_std\n",
    "    range_90u = range_mean + 2*range_std\n",
    "    df = pd.DataFrame({\"mean\": range_mean})\n",
    "    df[\"range\"]= range_x\n",
    "    df[\"std\"]= range_std\n",
    "    df[\"90l\"]= range_90l\n",
    "    df[\"90u\"]= range_90u\n",
    "    return df\n",
    "#"
   ]
  },
  {
   "cell_type": "code",
   "execution_count": 2,
   "id": "82d58f41-da89-4266-8e67-1ae26ca1e746",
   "metadata": {},
   "outputs": [
    {
     "data": {
      "text/html": [
       "<div>\n",
       "<style scoped>\n",
       "    .dataframe tbody tr th:only-of-type {\n",
       "        vertical-align: middle;\n",
       "    }\n",
       "\n",
       "    .dataframe tbody tr th {\n",
       "        vertical-align: top;\n",
       "    }\n",
       "\n",
       "    .dataframe thead th {\n",
       "        text-align: right;\n",
       "    }\n",
       "</style>\n",
       "<table border=\"1\" class=\"dataframe\">\n",
       "  <thead>\n",
       "    <tr style=\"text-align: right;\">\n",
       "      <th></th>\n",
       "      <th>central_sm</th>\n",
       "      <th>measured_sm</th>\n",
       "      <th>halo_mass</th>\n",
       "    </tr>\n",
       "  </thead>\n",
       "  <tbody>\n",
       "    <tr>\n",
       "      <th>0</th>\n",
       "      <td>12.115618</td>\n",
       "      <td>12.491581</td>\n",
       "      <td>14.658120</td>\n",
       "    </tr>\n",
       "    <tr>\n",
       "      <th>1</th>\n",
       "      <td>11.894872</td>\n",
       "      <td>12.111751</td>\n",
       "      <td>14.089678</td>\n",
       "    </tr>\n",
       "    <tr>\n",
       "      <th>2</th>\n",
       "      <td>11.763473</td>\n",
       "      <td>12.208368</td>\n",
       "      <td>14.383239</td>\n",
       "    </tr>\n",
       "    <tr>\n",
       "      <th>3</th>\n",
       "      <td>11.820660</td>\n",
       "      <td>12.358756</td>\n",
       "      <td>14.287383</td>\n",
       "    </tr>\n",
       "    <tr>\n",
       "      <th>4</th>\n",
       "      <td>11.628624</td>\n",
       "      <td>12.131789</td>\n",
       "      <td>14.141557</td>\n",
       "    </tr>\n",
       "  </tbody>\n",
       "</table>\n",
       "</div>"
      ],
      "text/plain": [
       "   central_sm  measured_sm  halo_mass\n",
       "0   12.115618    12.491581  14.658120\n",
       "1   11.894872    12.111751  14.089678\n",
       "2   11.763473    12.208368  14.383239\n",
       "3   11.820660    12.358756  14.287383\n",
       "4   11.628624    12.131789  14.141557"
      ]
     },
     "execution_count": 2,
     "metadata": {},
     "output_type": "execute_result"
    }
   ],
   "source": [
    "cluster_data=pd.read_csv(\"~/Data/cluster_data_0.3-0.6-msm.csv\")\n",
    "clusters = pd.DataFrame( {\"central_sm\":cluster_data[\"central_sm\"]} )\n",
    "clusters[\"measured_sm\"] = cluster_data[\"measured_sm\"]\n",
    "clusters[\"halo_mass\"] = cluster_data[\"halo_mass\"]\n",
    "clusters.head()\n",
    "#"
   ]
  },
  {
   "cell_type": "code",
   "execution_count": 37,
   "id": "493c93ea-28f4-41de-b8d9-82b87ad430b7",
   "metadata": {},
   "outputs": [
    {
     "name": "stdout",
     "output_type": "stream",
     "text": [
      "X, y: (229, 2) (229,)\n"
     ]
    }
   ],
   "source": [
    "train,test = sklearn.model_selection.train_test_split(clusters, train_size=0.80)\n",
    "X = train[train.columns[:-1]].astype(dtype)\n",
    "y = train[train.columns[-1]].astype(dtype)\n",
    "print(\"X, y:\", X.shape, y.shape)\n",
    "X_test = test[test.columns[:-1]].astype(dtype)\n",
    "y_test = test[test.columns[-1]].astype(dtype)\n",
    "all_X = clusters[clusters.columns[:-1]].astype(dtype)\n",
    "all_y = clusters[clusters.columns[-1]].astype(dtype)\n",
    "\n",
    "train = tf.data.Dataset.from_tensor_slices( (X, y)).shuffle(10000).batch(1000)\n",
    "\n",
    "# Are these globals?\n",
    "x = X\n",
    "y = y"
   ]
  },
  {
   "cell_type": "code",
   "execution_count": 55,
   "id": "78ddb8be-a5cf-47fb-a3ae-05d1bd7ac8f2",
   "metadata": {},
   "outputs": [
    {
     "name": "stdout",
     "output_type": "stream",
     "text": [
      "x shape: (229, 2), y shape: (229, 1)\n"
     ]
    }
   ],
   "source": [
    "#x = np.vstack([cluster_data[xname],cluster_data[x2name]]).transpose()\n",
    "x = tf.convert_to_tensor(X, dtype=dtype)\n",
    "\n",
    "y = tf.convert_to_tensor(y, dtype=dtype)\n",
    "y = tf.reshape(y, (-1, 1))\n",
    "\n",
    "print(\"x shape: {}, y shape: {}\".format(x.shape,y.shape))\n",
    "#dir(train)\n",
    "#train.get_single_element()\n",
    "#dir(train.batch(10))\n",
    "#for i in train.batch(10).as_numpy_iterator():\n",
    "#print(i)\n",
    "#rtain.batch(2).get_single_element()"
   ]
  },
  {
   "cell_type": "markdown",
   "id": "51f53beb-337c-408e-9501-8d1f8e728804",
   "metadata": {},
   "source": [
    "## Define the physical model"
   ]
  },
  {
   "cell_type": "code",
   "execution_count": 5,
   "id": "581b48e4-cf48-4e3e-bcd1-7ff4a9f60ee2",
   "metadata": {},
   "outputs": [],
   "source": [
    "jds_ab = tfd.JointDistributionNamedAutoBatched(dict(\n",
    "\n",
    "    sigma=tfd.HalfNormal(scale=[tf.cast(1.0, dtype)]),\n",
    "\n",
    "    alpha=tfd.Normal(\n",
    "        #loc=[tf.cast(0.0, dtype)], \n",
    "        loc=[tf.cast(2.5, dtype)], \n",
    "        scale=[tf.cast(10.0, dtype)]\n",
    "    ),\n",
    "\n",
    "    beta=tfd.Normal(\n",
    "        #loc=[[tf.cast(0.0, dtype)], [tf.cast(0.0, dtype)]], \n",
    "        loc=[[tf.cast(0.5, dtype)], [tf.cast(0.35, dtype)]],\n",
    "        scale=[[tf.cast(10.0, dtype)], [tf.cast(10.0, dtype)]]\n",
    "    ),\n",
    "\n",
    "    y=lambda beta, alpha, sigma: \n",
    "        tfd.Normal(\n",
    "            loc=tf.linalg.matmul(x, beta) + alpha, \n",
    "            scale=sigma\n",
    "        ) \n",
    "))"
   ]
  },
  {
   "cell_type": "code",
   "execution_count": 7,
   "id": "b5bef8a9-1c58-4dc0-b7df-bab81526a22a",
   "metadata": {},
   "outputs": [
    {
     "name": "stdout",
     "output_type": "stream",
     "text": [
      "model.event_shape: \n",
      " StructTuple(\n",
      "  alpha=TensorShape([]),\n",
      "  beta=TensorShape([2]),\n",
      "  sigma=TensorShape([]),\n",
      "  y=TensorShape([229, 1])\n",
      ")\n",
      "StructTuple(\n",
      "  alpha=<tf.Tensor: shape=(0,), dtype=int32, numpy=array([], dtype=int32)>,\n",
      "  beta=<tf.Tensor: shape=(1,), dtype=int32, numpy=array([2], dtype=int32)>,\n",
      "  sigma=<tf.Tensor: shape=(0,), dtype=int32, numpy=array([], dtype=int32)>,\n",
      "  y=<tf.Tensor: shape=(2,), dtype=int32, numpy=array([229,   1], dtype=int32)>\n",
      ")\n"
     ]
    }
   ],
   "source": [
    "#tf.keras.backend.clear_session()\n",
    "# Define the probabilistic graphical model as a JointDistribution.\n",
    "def out_y_point (alpha, beta, x) :\n",
    "    beta = tf.reshape(beta,[2,-1])\n",
    "    return tf.linalg.matmul(x, beta) + alpha\n",
    "def out_y (alpha, beta, sigma, x) :\n",
    "    return tfd.Normal( loc=out_y_point(alpha, beta, x), scale=sigma, name=\"y\")\n",
    "\n",
    "@tfd.JointDistributionCoroutineAutoBatched\n",
    "def model_standard():\n",
    "    alpha = yield  tfd.Normal( loc=5.0, scale=3, name=\"alpha\")\n",
    "    beta =  yield tfd.Normal( loc=[0.5,0.5], scale=[3.0,3.0], name=\"beta\")\n",
    "    sigma = yield tfd.HalfNormal(scale=0.5, name=\"sigma\")                                   \n",
    "    y = yield  out_y(alpha, beta, sigma, x)\n",
    "    \n",
    "@tfd.JointDistributionCoroutineAutoBatched\n",
    "def model_yyz():\n",
    "    alpha = yield  tfd.Normal( loc=3.0, scale=6.0, name=\"alpha\")\n",
    "    beta =  yield tfd.Normal( loc=[0.0,0.0], scale=[3.0,3.0], name=\"beta\")\n",
    "    sigma = yield tfd.HalfNormal(scale=1.0, name=\"sigma\")\n",
    "    q = yield tfd.Normal ( loc=0.0, scale=1.0, name=\"q\")                                   \n",
    "    y = yield  out_y(alpha, beta, (sigma + q* (out_y_point(alpha, beta, x)-12.0)), x)\n",
    "    \n",
    "@tfd.JointDistributionCoroutineAutoBatched\n",
    "def model_vector():\n",
    "    alpha = yield  tfd.Normal( loc=3.0, scale=6.0, name=\"alpha\")\n",
    "    beta =  yield tfd.Normal( loc=[0.0,0.0], scale=[3.0,3.0], name=\"beta\")\n",
    "    sigma = yield tfd.HalfNormal(\n",
    "                loc=(out_y_point(alpha,beta,x)-12.0), \n",
    "                scale=tf.math.softplus( 0.005*(out_y_point(alpha,beta,x)-12.0)) + 0.001, \n",
    "                name=\"sigma\")                                \n",
    "    y = yield  out_y(alpha, beta, sigma, x)\n",
    "    \n",
    "def pack_samples(samples):\n",
    "  try :\n",
    "    dict= {'alpha': samples.alpha,\n",
    "          'beta0': samples.beta[...,0],\n",
    "          'beta1': samples.beta[...,1],\n",
    "          'sigma': samples.sigma,\n",
    "          }\n",
    "  except :\n",
    "    dict= {'alpha': samples[\"alpha\"],\n",
    "          'beta0': samples[\"beta0\"],\n",
    "          'beta1': samples[\"beta1\"],\n",
    "          'sigma': samples[\"sigma\"],\n",
    "          }\n",
    "  return dict\n",
    "\n",
    "params = [\"beta0\", \"beta1\", \"alpha\", \"sigma\"];# wonder how to get this automatically\n",
    "    \n",
    "model = model_standard\n",
    "target_model = model\n",
    "\n",
    "print(\"model.event_shape: \\n\",model.event_shape)\n",
    "print( target_model.event_shape_tensor())"
   ]
  },
  {
   "cell_type": "code",
   "execution_count": null,
   "id": "2d90288b-2885-4cdb-babc-4ee35dc7f063",
   "metadata": {},
   "outputs": [],
   "source": [
    "# Sample from the prior.\n",
    "prior_samples = jds_ab.sample(500)['y']\n",
    "\n",
    "prior_samples = tf.squeeze(prior_samples)\n",
    "prior_mean = tf.math.reduce_mean(prior_samples, axis=0).numpy()\n",
    "prior_std = tf.math.reduce_std(prior_samples, axis=0).numpy()\n",
    "\n",
    "fig, ax = plt.subplots(nrows=1, ncols=1, figsize=(13, 6), constrained_layout=True)\n",
    "sns.regplot(\n",
    "    x=tf.squeeze(y).numpy(), \n",
    "    y=prior_mean, \n",
    "    #scatter=False,\n",
    "    line_kws=dict(alpha=0.5), \n",
    "    label='y ~ y_pred', \n",
    "    truncate=False,\n",
    "    ax=ax\n",
    ")\n",
    "#print(tf.squeeze(y).numpy())\n",
    "#print(prior_mean)\n",
    "      \n",
    "#ax.axline(xy1=(0,0), slope=1, linestyle='--', color=sns_c[3], label='diagonal (y = y_pred)')\n",
    "ax.legend(loc='lower right')\n",
    "ax.set(title='Model Prior Predictions', xlabel='y', ylabel='y_pred');"
   ]
  },
  {
   "cell_type": "markdown",
   "id": "f57795c2-ca62-433b-9c57-a98860dd5cfb",
   "metadata": {},
   "source": [
    "## Variational Inference\n",
    "### Change the form of the posterior surrogate to Inverse Autoregressive Flow surrogate posterior\n"
   ]
  },
  {
   "cell_type": "code",
   "execution_count": 8,
   "id": "3fe6ba5a-4ffd-47c8-bb93-e77e6048366b",
   "metadata": {},
   "outputs": [
    {
     "name": "stdout",
     "output_type": "stream",
     "text": [
      "event_shape:   StructTuple(\n",
      "  alpha=<tf.Tensor: shape=(0,), dtype=int32, numpy=array([], dtype=int32)>,\n",
      "  beta=<tf.Tensor: shape=(1,), dtype=int32, numpy=array([2], dtype=int32)>,\n",
      "  sigma=<tf.Tensor: shape=(0,), dtype=int32, numpy=array([], dtype=int32)>,\n",
      "  y=<tf.Tensor: shape=(2,), dtype=int32, numpy=array([229,   1], dtype=int32)>\n",
      ")\n",
      "\n",
      "\n",
      "flat_event_shape:\n",
      "tf.Tensor([], shape=(0,), dtype=int32)\n",
      "tf.Tensor([2], shape=(1,), dtype=int32)\n",
      "tf.Tensor([], shape=(0,), dtype=int32)\n",
      "tf.Tensor([229   1], shape=(2,), dtype=int32)\n",
      "\n",
      "\n",
      "flat_event_size:\n",
      "tf.Tensor(1, shape=(), dtype=int32)\n",
      "tf.Tensor(2, shape=(), dtype=int32)\n",
      "tf.Tensor(1, shape=(), dtype=int32)\n",
      "tf.Tensor(229, shape=(), dtype=int32)\n"
     ]
    }
   ],
   "source": [
    "# target_model is set when one sets the model earlier in the noebook.\n",
    "\n",
    "\n",
    "# Determine the `event_shape` of the posterior, and calculate the size of each\n",
    "# `event_shape` component. These determine the sizes of the components of the\n",
    "# underlying standard Normal distribution, and the dimensions of the blocks in\n",
    "# the blockwise matrix transformation.\n",
    "event_shape = target_model.event_shape_tensor()\n",
    "flat_event_shape = tf.nest.flatten(event_shape)\n",
    "flat_event_size = tf.nest.map_structure(tf.reduce_prod, flat_event_shape)\n",
    "\n",
    "print(\"event_shape:  \", event_shape)\n",
    "print(\"\\n\\nflat_event_shape:\")\n",
    "for fes in flat_event_shape:\n",
    "  print(fes)\n",
    "print(\"\\n\\nflat_event_size:\")\n",
    "for fes in flat_event_size:\n",
    "  print(fes)\n",
    "\n",
    "# The `event_space_bijector` maps unconstrained values (in R^n) to the support\n",
    "# of the prior -- we'll need this at the end to constrain Multivariate Normal\n",
    "# samples to the prior's support.\n",
    "event_space_bijector = target_model.experimental_default_event_space_bijector()\n",
    "\n",
    "base_standard_dist = tfd.JointDistributionSequential(\n",
    "      [tfd.Sample(tfd.Normal(0., 1.), s) for s in flat_event_size])\n",
    "\n",
    "#block_tril_linop = (\n",
    "#    tfp.experimental.vi.util.build_trainable_linear_operator_block(\n",
    "#        operators, flat_event_size))\n",
    "#scale_bijector = tfb.ScaleMatvecLinearOperatorBlock(block_tril_linop)\n",
    "\n",
    "loc_bijector = tfb.JointMap(\n",
    "    tf.nest.map_structure(\n",
    "        lambda s: tfb.Shift(\n",
    "            tf.Variable(tf.random.uniform(\n",
    "                (s,), minval=-2., maxval=2., dtype=tf.float32))),\n",
    "        flat_event_size))\n",
    "\n",
    "\n",
    "reshape_bijector = tfb.JointMap(\n",
    "   tf.nest.map_structure(tfb.Reshape, flat_event_shape))\n",
    "unflatten_bijector = tfb.Restructure(\n",
    "       tf.nest.pack_sequence_as(\n",
    "           event_shape, range(len(flat_event_shape))))\n",
    "\n",
    "# event_space_bijector = target_model.experimental_default_event_space_bijector()\n",
    "\n",
    "# Reshape each component to match the prior, using a nested structure of\n",
    "# `Reshape` bijectors wrapped in `JointMap` to form a multipart bijector.\n",
    "reshape_bijector = tfb.JointMap(\n",
    "    tf.nest.map_structure(tfb.Reshape, flat_event_shape))\n",
    "\n",
    "# Restructure the flat list of components to match the prior's structure\n",
    "unflatten_bijector = tfb.Restructure(\n",
    "        tf.nest.pack_sequence_as(\n",
    "            event_shape, range(len(flat_event_shape))))\n"
   ]
  },
  {
   "cell_type": "code",
   "execution_count": 9,
   "id": "4454f693-3850-4d27-91ee-a152b0493509",
   "metadata": {},
   "outputs": [],
   "source": [
    "# Build a standard Normal with a vector `event_shape`, with length equal to the\n",
    "# total number of degrees of freedom in the posterior.\n",
    "base_distribution = tfd.Sample(\n",
    "    tfd.Normal(0., 1.), sample_shape=[tf.reduce_sum(flat_event_size)])\n",
    "\n",
    "# Apply an IAF to the base distribution.\n",
    "num_iafs = 2\n",
    "iaf_bijectors = [\n",
    "    tfb.Invert(tfb.MaskedAutoregressiveFlow(\n",
    "        shift_and_log_scale_fn=tfb.AutoregressiveNetwork(\n",
    "            params=2, hidden_units=[256, 256], activation='relu')))\n",
    "    for _ in range(num_iafs)\n",
    "]\n",
    "\n",
    "# Split the base distribution's `event_shape` into components that are equal\n",
    "# in size to the prior's components.\n",
    "split = tfb.Split(flat_event_size)\n",
    "\n",
    "# Chain these bijectors and apply them to the standard Normal base distribution\n",
    "# to build the surrogate posterior. `event_space_bijector`,\n",
    "# `unflatten_bijector`, and `reshape_bijector` are the same as in the\n",
    "# multivariate Normal surrogate posterior.\n",
    "iaf_surrogate_posterior = tfd.TransformedDistribution(\n",
    "    base_distribution,\n",
    "    bijector=tfb.Chain([\n",
    "         event_space_bijector,  # constrain the surrogate to the support of the prior\n",
    "         unflatten_bijector,  # pack the reshaped components into the `event_shape` structure of the prior\n",
    "         reshape_bijector,  # reshape the vector-valued components to match the shapes of the prior components\n",
    "         split] +  # Split the samples into components of the same size as the prior components\n",
    "         iaf_bijectors  # Apply a flow model to the Tensor-valued standard Normal distribution\n",
    "         ))\n",
    "\n"
   ]
  },
  {
   "cell_type": "code",
   "execution_count": 10,
   "id": "7fc810ba-f443-4a80-9fa5-d6232537fbe7",
   "metadata": {},
   "outputs": [
    {
     "name": "stderr",
     "output_type": "stream",
     "text": [
      "2021-10-25 21:54:13.826009: I tensorflow/compiler/xla/service/service.cc:171] XLA service 0x55555b89e360 initialized for platform Host (this does not guarantee that XLA will be used). Devices:\n",
      "2021-10-25 21:54:13.826030: I tensorflow/compiler/xla/service/service.cc:179]   StreamExecutor device (0): Host, Default Version\n",
      "2021-10-25 21:54:13.942482: W tensorflow/compiler/tf2xla/kernels/random_ops.cc:102] Warning: Using tf.random.uniform with XLA compilation will ignore seeds; consider using tf.random.stateless_uniform instead if reproducible behavior is desired. fit_surrogate_posterior/sanitize_seed/seed\n",
      "2021-10-25 21:54:13.946283: I tensorflow/compiler/mlir/tensorflow/utils/dump_mlir_util.cc:237] disabling MLIR crash reproducer, set env var `MLIR_CRASH_REPRODUCER_DIRECTORY` to enable.\n",
      "2021-10-25 21:54:21.643642: I tensorflow/compiler/jit/xla_compilation_cache.cc:351] Compiled cluster using XLA!  This line is logged at most once for the lifetime of the process.\n"
     ]
    },
    {
     "name": "stdout",
     "output_type": "stream",
     "text": [
      "optimizing time: 364.940048 seconds\n",
      "IAF surrogate posterior ELBO: -8.60875415802002\n"
     ]
    },
    {
     "data": {
      "image/png": "[encoded data removed]",
      "text/plain": [
       "<Figure size 720x288 with 1 Axes>"
      ]
     },
     "metadata": {
      "needs_background": "light"
     },
     "output_type": "display_data"
    }
   ],
   "source": [
    "start = time.time()\n",
    "optimizer=tf.optimizers.Adam(learning_rate=1e-3)\n",
    "iaf_loss = tfp.vi.fit_surrogate_posterior(\n",
    "  target_model.unnormalized_log_prob,\n",
    "  iaf_surrogate_posterior,\n",
    "  optimizer=optimizer,\n",
    "  #num_steps=10**4,\n",
    "  num_steps=10**5,\n",
    "  sample_size=4,\n",
    "  jit_compile=True)\n",
    "end = time.time()\n",
    "print(\"optimizing time: {:2f} seconds\".format(end - start))\n",
    "\n",
    "iaf_samples = iaf_surrogate_posterior.sample(1000)\n",
    "iaf_final_elbo = tf.reduce_mean(\n",
    "    target_model.unnormalized_log_prob(*iaf_samples)\n",
    "    - iaf_surrogate_posterior.log_prob(iaf_samples))\n",
    "print('IAF surrogate posterior ELBO: {}'.format(iaf_final_elbo))\n",
    "\n",
    "plt.figure(figsize=(10, 4))\n",
    "plt.plot(iaf_loss)\n",
    "plt.xlabel('Training step')\n",
    "_ = plt.ylabel('Loss value')\n",
    "\n",
    "\n"
   ]
  },
  {
   "cell_type": "code",
   "execution_count": 21,
   "id": "a18794f1-0818-47f6-bf96-049f95ffe6c1",
   "metadata": {},
   "outputs": [
    {
     "name": "stdout",
     "output_type": "stream",
     "text": [
      "4.5335145\n",
      "\n",
      " Test data\n",
      "\n",
      "   posterior_std  chi-sq and rms: 271.00 14.525\n"
     ]
    },
    {
     "data": {
      "image/png": "[encoded data removed]",
      "text/plain": [
       "<Figure size 1008x360 with 2 Axes>"
      ]
     },
     "metadata": {
      "needs_background": "light"
     },
     "output_type": "display_data"
    }
   ],
   "source": [
    "def get_y_predictions(alpha, beta, sigma, x) :\n",
    "    beta = tf.reshape(beta,[2,-1])\n",
    "    return tfd.Normal( loc=tf.linalg.matmul(x, beta) + alpha, scale=sigma)\n",
    "\n",
    "iaf_samples = iaf_surrogate_posterior.sample(10000)\n",
    "#print(iaf_samples[0].numpy().mean())\n",
    "alpha = iaf_samples[0].numpy()\n",
    "beta = iaf_samples[1].numpy()\n",
    "sigma = iaf_samples[2].numpy()\n",
    "\n",
    "y_model = get_y_predictions(alpha, beta, sigma, tf.convert_to_tensor(X_test, dtype=dtype))\n",
    "posterior_mean =( y_model.mean()).numpy().mean(axis=1)\n",
    "posterior_std = ( y_model.stddev()).numpy().mean(axis=1)\n",
    "\n",
    "chisq = (((posterior_mean-y_test)/posterior_std)**2).sum()/(y_test.size-len(params)-1)\n",
    "rms = np.sqrt(((posterior_mean-y_test)**2).sum()/y_test.size)\n",
    "\n",
    "print(\"\\n Test data\\n\")\n",
    "print (\"   posterior_std  chi-sq and rms: {:6.2f} {:6.3f}\".format(chisq, rms))\n",
    "\n",
    "# posterior predictive distribution \n",
    "ppd_df = make_posterior_predictive_distribution (sigma.mean())\n",
    "yp_on_yt_plot (posterior_mean, posterior_std, y_test, ppd_df)"
   ]
  },
  {
   "cell_type": "code",
   "execution_count": null,
   "id": "2851673a-0765-4fe3-8735-27e99ffb5c17",
   "metadata": {},
   "outputs": [],
   "source": []
  }
 ],
 "metadata": {
  "kernelspec": {
   "display_name": "tflow2",
   "language": "python",
   "name": "tflow2"
  },
  "language_info": {
   "codemirror_mode": {
    "name": "ipython",
    "version": 3
   },
   "file_extension": ".py",
   "mimetype": "text/x-python",
   "name": "python",
   "nbconvert_exporter": "python",
   "pygments_lexer": "ipython3",
   "version": "3.9.7"
  }
 },
 "nbformat": 4,
 "nbformat_minor": 5
}
