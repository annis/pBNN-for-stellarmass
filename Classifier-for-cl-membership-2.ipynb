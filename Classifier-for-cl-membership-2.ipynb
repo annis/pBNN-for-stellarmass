{
 "cells": [
  {
   "cell_type": "markdown",
   "metadata": {
    "collapsed": true,
    "pycharm": {
     "name": "#%% md\n"
    }
   },
   "source": [
    "# 1 Classifier for cluster membership 2\n",
    "\n",
    "Feb 15, 2022\n",
    "\n",
    "This note book uses the large data set I created earlier, and will explore the use of weights and biases wand.ai.\n",
    "\n",
    "## 1.1 Imports"
   ]
  },
  {
   "cell_type": "code",
   "execution_count": 1,
   "outputs": [
    {
     "name": "stdout",
     "output_type": "stream",
     "text": [
      "TensorFlow version: 2.7.0\n",
      "TensorFlow Probability version: 0.15.0\n",
      "WARNING: GPU device not found.\n"
     ]
    },
    {
     "name": "stderr",
     "output_type": "stream",
     "text": [
      "2022-02-22 15:35:14.780067: I tensorflow/core/platform/cpu_feature_guard.cc:151] This TensorFlow binary is optimized with oneAPI Deep Neural Network Library (oneDNN) to use the following CPU instructions in performance-critical operations:  SSE4.1 SSE4.2 AVX AVX2 FMA\n",
      "To enable them in other operations, rebuild TensorFlow with the appropriate compiler flags.\n"
     ]
    }
   ],
   "source": [
    "import scipy\n",
    "import numpy as np\n",
    "import pandas as pd\n",
    "from tqdm import trange\n",
    "import time\n",
    "\n",
    "import wandb # weight and bias model outcome tracking\n",
    "\n",
    "#import tensorflow.compat.v2 as tf\n",
    "#tf.enable_v2_behavior()\n",
    "import tensorflow as tf\n",
    "import tensorflow_probability as tfp\n",
    "tfd = tfp.distributions\n",
    "tfb = tfp.bijectors\n",
    "\n",
    "# data splitting and outlier removal\n",
    "import  sklearn.preprocessing  # StandardScaler\n",
    "from sklearn.ensemble import IsolationForest\n",
    "import sklearn.model_selection #  train_test_split\n",
    "import colossus\n",
    "from colossus.cosmology import cosmology\n",
    "# Set tensor numeric type.\n",
    "dtype = 'float32'\n",
    "\n",
    "# Data visualization\n",
    "import matplotlib.pyplot as plt\n",
    "import seaborn as sns\n",
    "import itertools # to cycle through palette colors\n",
    "if 1== 1 :\n",
    "    sns.set_style(\n",
    "        style='darkgrid',\n",
    "        rc={'axes.facecolor': '.9', 'grid.color': '.8'}\n",
    "    )\n",
    "sns.set_palette(palette='deep')\n",
    "#sns.set_palette(palette=\"Paired_r\")\n",
    "#sns_c = sns.color_palette(palette=\"Paired_r\")\n",
    "%matplotlib inline\n",
    "from pandas.plotting import register_matplotlib_converters\n",
    "register_matplotlib_converters()\n",
    "\n",
    "# Get TensorFlow version.\n",
    "print(f'TensorFlow version: {tf.__version__}')\n",
    "print(f'TensorFlow Probability version: {tfp.__version__}')\n",
    "\n",
    "if tf.test.gpu_device_name() != '/device:GPU:0':\n",
    "    print('WARNING: GPU device not found.')\n",
    "else:\n",
    "    print('SUCCESS: Found GPU: {}'.format(tf.test.gpu_device_name()))"
   ],
   "metadata": {
    "collapsed": false,
    "pycharm": {
     "name": "#%%\n"
    }
   }
  },
  {
   "cell_type": "markdown",
   "source": [
    "## 1.2 Notebook Python definitions"
   ],
   "metadata": {
    "collapsed": false
   }
  },
  {
   "cell_type": "code",
   "execution_count": 2,
   "outputs": [],
   "source": [
    "#\n",
    "# Produce the sample file for the membership classsification\n",
    "#\n",
    "def write_galaxy_sample_for_membership (gal_df, output_filename) :\n",
    "    # model photo-z as a gaussian of sigma=0.03\n",
    "    z = gal_df[\"redshift\"]\n",
    "    pz = z+np.random.normal(0,0.03, size=z.size)\n",
    "    # if the pz < 0, flip it about 0\n",
    "    ix, = np.where(pz<0)\n",
    "    pz[ix] = np.abs(pz[ix])\n",
    "    is_central = gal_df[\"is_central\"]\n",
    "    cl_id = gal_df[\"cluster_id\"]\n",
    "    halo_id = gal_df[\"halo_id\"]\n",
    "    # set the central galaxies to no pz error\n",
    "    ix = ((is_central==True) & (cl_id == halo_id))\n",
    "    pz[ix] = z[ix]\n",
    "    delta_pz = pz - gal_df[\"cluster_z\"]\n",
    "\n",
    "    print(\"sm\")\n",
    "    cosmos=cosmology.setCosmology('planck18')\n",
    "    luminosity_distance_gal = cosmos.luminosityDistance(pz)\n",
    "    luminosity_distance_cl = cosmos.luminosityDistance(gal_df[\"cluster_z\"])\n",
    "    delta_dm = 5*np.log10(luminosity_distance_gal/luminosity_distance_cl)\n",
    "    gal_smass = gal_df[\"stellar_mass\"] - delta_dm\n",
    "\n",
    "    print(\"radius\")\n",
    "    angular_diameter_distance = cosmos.angularDiameterDistance(gal_df[\"cluster_z\"])\n",
    "    degrees_per_mpc = (1./angular_diameter_distance)*(360./2/np.pi)\n",
    "    cluster_radius_mpc = gal_df[\"cluster_radius_arcmin\"]/60./degrees_per_mpc\n",
    "\n",
    "    print(\"prep galaxies\")\n",
    "    galaxies_in = pd.DataFrame({})\n",
    "    galaxies_in[\"radius\"] = cluster_radius_mpc\n",
    "    galaxies_in[\"delta-pz\"] = delta_pz\n",
    "    galaxies_in[\"stellarmass\"]= gal_smass\n",
    "    galaxies_in[\"cl_z\"] = gal_df[\"cluster_z\"]\n",
    "    galaxies_in[\"i_mag\"]=gal_df[\"mag_i\"]\n",
    "    galaxies_in[\"u-g\"] = gal_df[\"mag_u-g\"]\n",
    "    galaxies_in[\"g-r\"] = gal_df[\"mag_g-r\"]\n",
    "    galaxies_in[\"r-i\"] = gal_df[\"mag_r-i\"]\n",
    "    galaxies_in[\"i-z\"] = gal_df[\"mag_i-z\"]\n",
    "    cluster_member = (gal_df[\"halo_id\"] == gal_df[\"cluster_id\"])\n",
    "    cluster_member = np.array(cluster_member).astype(\"int\")\n",
    "    galaxies_in[\"member\"] = cluster_member\n",
    "    galaxies_in[\"id\"] = galaxies_in.index\n",
    "\n",
    "\n",
    "    print(\"starting to write\")\n",
    "    galaxies_in.to_csv(output_filename) #\"~/Data/galaxies_near_clusters_small.csv\"\n",
    "    print(\"wrote {} {} gals\".format(output_filename, galaxies_in[\"radius\"].size))\n",
    "\n",
    "\n"
   ],
   "metadata": {
    "collapsed": false,
    "pycharm": {
     "name": "#%%\n"
    }
   }
  },
  {
   "cell_type": "markdown",
   "source": [
    "## 1.2 Data\n",
    "\n",
    "Set need_to_generate_classification_file to True if one needs to re-generate the classification data file.\n",
    "\n",
    "- cluster_df: data on the clusters\n",
    "- galaxy_df: galaxies projected on sky near clusters\n",
    "- class_df: gaalxy data ready for the classification step\n"
   ],
   "metadata": {
    "collapsed": false,
    "pycharm": {
     "name": "#%% md\n"
    }
   }
  },
  {
   "cell_type": "code",
   "execution_count": 3,
   "outputs": [
    {
     "data": {
      "text/plain": "          radius  delta-pz  stellarmass      cl_z      i_mag       u-g  \\\n0       1.390108 -0.293219    14.017486  0.377169  16.710154  1.717278   \n1       0.316237 -0.197764    12.619263  0.377169  17.553968  1.706240   \n2       0.288371 -0.191983    11.548679  0.377169  19.848861  1.695599   \n3       0.275092 -0.200805    11.742450  0.377169  19.362929  1.733788   \n4       1.672411 -0.137856    11.478700  0.377169  18.689300  1.673197   \n...          ...       ...          ...       ...        ...       ...   \n286638  0.588458  1.414640     8.140346  0.597763  22.918548  0.222723   \n286639  1.664408  1.510623     8.285113  0.597763  21.749791  0.250183   \n286640  2.335535  1.572470     7.462159  0.597763  22.833552  0.206095   \n286641  1.800517  1.731519     7.957765  0.597763  22.325692  0.147905   \n286642  0.693689  2.107369     6.928089  0.597763  22.761260  0.648211   \n\n             g-r       r-i       i-z  member      id  \n0       0.932936  0.455732  0.321991       0       0  \n1       1.123459  0.494001  0.287647       0       1  \n2       1.063702  0.464962  0.269772       0       2  \n3       1.121321  0.481617  0.299284       0       3  \n4       1.098970  0.491835  0.312542       0       4  \n...          ...       ...       ...     ...     ...  \n286638  0.081356 -0.069790  0.103909       0  286638  \n286639  0.053087 -0.095989  0.021654       0  286639  \n286640 -0.005110 -0.104212 -0.048845       0  286640  \n286641 -0.050097 -0.102432 -0.082043       0  286641  \n286642  0.116634  0.011635 -0.086573       0  286642  \n\n[286643 rows x 11 columns]",
      "text/html": "<div>\n<style scoped>\n    .dataframe tbody tr th:only-of-type {\n        vertical-align: middle;\n    }\n\n    .dataframe tbody tr th {\n        vertical-align: top;\n    }\n\n    .dataframe thead th {\n        text-align: right;\n    }\n</style>\n<table border=\"1\" class=\"dataframe\">\n  <thead>\n    <tr style=\"text-align: right;\">\n      <th></th>\n      <th>radius</th>\n      <th>delta-pz</th>\n      <th>stellarmass</th>\n      <th>cl_z</th>\n      <th>i_mag</th>\n      <th>u-g</th>\n      <th>g-r</th>\n      <th>r-i</th>\n      <th>i-z</th>\n      <th>member</th>\n      <th>id</th>\n    </tr>\n  </thead>\n  <tbody>\n    <tr>\n      <th>0</th>\n      <td>1.390108</td>\n      <td>-0.293219</td>\n      <td>14.017486</td>\n      <td>0.377169</td>\n      <td>16.710154</td>\n      <td>1.717278</td>\n      <td>0.932936</td>\n      <td>0.455732</td>\n      <td>0.321991</td>\n      <td>0</td>\n      <td>0</td>\n    </tr>\n    <tr>\n      <th>1</th>\n      <td>0.316237</td>\n      <td>-0.197764</td>\n      <td>12.619263</td>\n      <td>0.377169</td>\n      <td>17.553968</td>\n      <td>1.706240</td>\n      <td>1.123459</td>\n      <td>0.494001</td>\n      <td>0.287647</td>\n      <td>0</td>\n      <td>1</td>\n    </tr>\n    <tr>\n      <th>2</th>\n      <td>0.288371</td>\n      <td>-0.191983</td>\n      <td>11.548679</td>\n      <td>0.377169</td>\n      <td>19.848861</td>\n      <td>1.695599</td>\n      <td>1.063702</td>\n      <td>0.464962</td>\n      <td>0.269772</td>\n      <td>0</td>\n      <td>2</td>\n    </tr>\n    <tr>\n      <th>3</th>\n      <td>0.275092</td>\n      <td>-0.200805</td>\n      <td>11.742450</td>\n      <td>0.377169</td>\n      <td>19.362929</td>\n      <td>1.733788</td>\n      <td>1.121321</td>\n      <td>0.481617</td>\n      <td>0.299284</td>\n      <td>0</td>\n      <td>3</td>\n    </tr>\n    <tr>\n      <th>4</th>\n      <td>1.672411</td>\n      <td>-0.137856</td>\n      <td>11.478700</td>\n      <td>0.377169</td>\n      <td>18.689300</td>\n      <td>1.673197</td>\n      <td>1.098970</td>\n      <td>0.491835</td>\n      <td>0.312542</td>\n      <td>0</td>\n      <td>4</td>\n    </tr>\n    <tr>\n      <th>...</th>\n      <td>...</td>\n      <td>...</td>\n      <td>...</td>\n      <td>...</td>\n      <td>...</td>\n      <td>...</td>\n      <td>...</td>\n      <td>...</td>\n      <td>...</td>\n      <td>...</td>\n      <td>...</td>\n    </tr>\n    <tr>\n      <th>286638</th>\n      <td>0.588458</td>\n      <td>1.414640</td>\n      <td>8.140346</td>\n      <td>0.597763</td>\n      <td>22.918548</td>\n      <td>0.222723</td>\n      <td>0.081356</td>\n      <td>-0.069790</td>\n      <td>0.103909</td>\n      <td>0</td>\n      <td>286638</td>\n    </tr>\n    <tr>\n      <th>286639</th>\n      <td>1.664408</td>\n      <td>1.510623</td>\n      <td>8.285113</td>\n      <td>0.597763</td>\n      <td>21.749791</td>\n      <td>0.250183</td>\n      <td>0.053087</td>\n      <td>-0.095989</td>\n      <td>0.021654</td>\n      <td>0</td>\n      <td>286639</td>\n    </tr>\n    <tr>\n      <th>286640</th>\n      <td>2.335535</td>\n      <td>1.572470</td>\n      <td>7.462159</td>\n      <td>0.597763</td>\n      <td>22.833552</td>\n      <td>0.206095</td>\n      <td>-0.005110</td>\n      <td>-0.104212</td>\n      <td>-0.048845</td>\n      <td>0</td>\n      <td>286640</td>\n    </tr>\n    <tr>\n      <th>286641</th>\n      <td>1.800517</td>\n      <td>1.731519</td>\n      <td>7.957765</td>\n      <td>0.597763</td>\n      <td>22.325692</td>\n      <td>0.147905</td>\n      <td>-0.050097</td>\n      <td>-0.102432</td>\n      <td>-0.082043</td>\n      <td>0</td>\n      <td>286641</td>\n    </tr>\n    <tr>\n      <th>286642</th>\n      <td>0.693689</td>\n      <td>2.107369</td>\n      <td>6.928089</td>\n      <td>0.597763</td>\n      <td>22.761260</td>\n      <td>0.648211</td>\n      <td>0.116634</td>\n      <td>0.011635</td>\n      <td>-0.086573</td>\n      <td>0</td>\n      <td>286642</td>\n    </tr>\n  </tbody>\n</table>\n<p>286643 rows × 11 columns</p>\n</div>"
     },
     "execution_count": 3,
     "metadata": {},
     "output_type": "execute_result"
    }
   ],
   "source": [
    "data_directory = \"~/Data/cl_sm_dc2_2021/\"\n",
    "cluster_file = data_directory + \"cluster_data_0.3-0.6.csv\"\n",
    "galaxy_file = data_directory + \"galaxies_near_clusters_0.3-0.6.csv\"\n",
    "classification_file = data_directory + \"tmp_galaxies_near_clusters.csv\"\n",
    "\n",
    "gal_df = pd.read_csv(galaxy_file, index_col=0)\n",
    "cluster_df = pd.read_csv(cluster_file, index_col=[0])\n",
    "\n",
    "need_to_generate_classification_file  = False\n",
    "if need_to_generate_classification_file:\n",
    "    print(gal_df.head())\n",
    "    write_galaxy_sample_for_membership (gal_df, classification_file)\n",
    "class_df = pd.read_csv(classification_file, index_col=[0])\n",
    "\n",
    "class_df"
   ],
   "metadata": {
    "collapsed": false,
    "pycharm": {
     "name": "#%%\n"
    }
   }
  },
  {
   "cell_type": "markdown",
   "source": [
    "## 2.2 Prepare the data for training"
   ],
   "metadata": {
    "collapsed": false,
    "pycharm": {
     "name": "#%% md\n"
    }
   }
  },
  {
   "cell_type": "code",
   "execution_count": 4,
   "outputs": [
    {
     "name": "stdout",
     "output_type": "stream",
     "text": [
      "X, y: (229314, 9) (229314,)\n"
     ]
    }
   ],
   "source": [
    "train,test = sklearn.model_selection.train_test_split(class_df, train_size=0.80)\n",
    "#X_t = sklearn.preprocessing.StandardScaler.fit_transform(train)\n",
    "X = train[train.columns[:-2]]\n",
    "y = train[train.columns[-2]]\n",
    "print(\"X, y:\", X.shape, y.shape)\n",
    "X_test = test[test.columns[:-2]]\n",
    "y_test = test[test.columns[-2]]\n",
    "\n",
    "train = tf.data.Dataset.from_tensor_slices( (X, y)).shuffle(10000).batch(1000)\n",
    "\n",
    "all_X = class_df[class_df.columns[:-2]]\n",
    "all_y = class_df[class_df.columns[-2]]"
   ],
   "metadata": {
    "collapsed": false,
    "pycharm": {
     "name": "#%%\n"
    }
   }
  },
  {
   "cell_type": "markdown",
   "source": [
    "## 2.3 Prepare and train the NN"
   ],
   "metadata": {
    "collapsed": false,
    "pycharm": {
     "name": "#%% md\n"
    }
   }
  },
  {
   "cell_type": "code",
   "execution_count": 5,
   "outputs": [],
   "source": [
    "# Note that when using the delayed-build pattern (no input shape specified),\n",
    "# the model gets built the first time you call `fit`, `eval`, or `predict`,\n",
    "# or the first time you call the model on some input data.\n",
    "model = tf.keras.Sequential()\n",
    "#model.add(tf.keras.layers.Dense(64,activation='relu', input_dim=9))\n",
    "#model.add(tf.keras.layers.Dense(32,activation='relu'))\n",
    "model.add(tf.keras.layers.Dense(16,activation='relu'))\n",
    "model.add(tf.keras.layers.Dense(8,activation='relu'))\n",
    "model.add(tf.keras.layers.Dense(1, activation='sigmoid'))\n",
    "\n",
    "n_epochs=100\n",
    "Saved_Model_Name = '~/Data/Models/cluster_membership-{}e'.format(n_epochs)\n",
    "start = time.time()\n",
    "model.compile(loss='binary_crossentropy', optimizer='adam', metrics=['accuracy'])\n",
    "doRun = False\n",
    "\n",
    "if doRun:\n",
    "    wandb.init(project=\"classifier-for-cl-membership-2\", entity=\"annis\")\n",
    "    wandb.config = {\n",
    "        \"epochs\": n_epochs,\n",
    "    }\n",
    "    model.fit(X,y, epochs=n_epochs)\n",
    "    #model.fit(X,y, epochs=100)\n",
    "    end = time.time()\n",
    "    print(\"optimizing time: {:2f} seconds\".format(end - start))\n",
    "\n",
    "    print(model.summary())\n",
    "    score = model.evaluate(X_test, y_test, verbose=1)\n",
    "\n",
    "    print(\"Test Score:\", score[0])\n",
    "    print(\"Test Accuracy: {:.2f}%\".format(score[1]*100))\n",
    "    wandb.log({\"score\":score[0], \"accuracy\":score[1]*100})\n",
    "    wandb.finish()\n",
    "    model.save(Saved_Model_Name)"
   ],
   "metadata": {
    "collapsed": false,
    "pycharm": {
     "name": "#%%\n"
    }
   }
  },
  {
   "cell_type": "code",
   "execution_count": 6,
   "outputs": [
    {
     "data": {
      "text/plain": "((286643,), (286643, 9), (286643,))"
     },
     "execution_count": 6,
     "metadata": {},
     "output_type": "execute_result"
    }
   ],
   "source": [
    "\n",
    "model = tf.keras.models.load_model(Saved_Model_Name)\n",
    "\n",
    "membership = np.squeeze(model.predict(all_X))\n",
    "membership.shape, all_X.shape, all_y.shape"
   ],
   "metadata": {
    "collapsed": false,
    "pycharm": {
     "name": "#%%\n"
    }
   }
  },
  {
   "cell_type": "markdown",
   "source": [
    "### 2.3.1 testing cells"
   ],
   "metadata": {
    "collapsed": false,
    "pycharm": {
     "name": "#%% md\n"
    }
   }
  },
  {
   "cell_type": "code",
   "execution_count": 7,
   "outputs": [
    {
     "name": "stdout",
     "output_type": "stream",
     "text": [
      "highest mass cluster:    251\n",
      "79700142331\n",
      "(1050, 15) (1050, 12) (1050,) (1050,)\n"
     ]
    }
   ],
   "source": [
    "print(\"highest mass cluster:   \",np.argmax(cluster_df[\"halo_mass\"]))\n",
    "z=cluster_df.iloc[251]; print (z[\"halo_id\"].astype(\"int\"))\n",
    "\n",
    "class_df[\"memb_prob\"] = membership\n",
    "zz = gal_df[gal_df[\"cluster_id\"]==79700142331]\n",
    "zz_id = zz.index\n",
    "zg=class_df[class_df[\"id\"].isin(zz_id)]  # vector instead of scalar or matching length\n",
    "print(zz.shape, zg.shape, zz_id.shape, np.unique(zz_id).shape)"
   ],
   "metadata": {
    "collapsed": false,
    "pycharm": {
     "name": "#%%\n"
    }
   }
  },
  {
   "cell_type": "code",
   "execution_count": 8,
   "outputs": [
    {
     "name": "stdout",
     "output_type": "stream",
     "text": [
      "if member, sum(memb_prob*sm):   12.527417459238698 12.647303\n",
      "         dec         ra  redshift  halo_mass  stellar_mass       halo_id  \\\n",
      "0 -39.595058  61.754715  0.377169  14.658120  1.305021e+12  268600155355   \n",
      "1 -41.089805  62.125393  0.385860  14.089678  7.850036e+11  397200155355   \n",
      "2 -39.809490  62.668306  0.374379  14.383239  5.800606e+11  449800155355   \n",
      "3 -41.168704  61.504270  0.377054  14.287383  6.616984e+11  562900155355   \n",
      "4 -41.012162  61.380974  0.435655  14.141557  4.252299e+11  467800155338   \n",
      "\n",
      "   central_sm    sm_0.50    sm_0.67     sm_1.0     sm_1.5     sm_2.0  \\\n",
      "0   12.115618  12.476259  12.515145  12.572289  12.584593  12.584593   \n",
      "1   11.894872  11.958520  11.985133  11.995679  11.995679  11.995679   \n",
      "2   11.763473  12.158964  12.191358  12.205451  12.217457  12.218066   \n",
      "3   11.820660  12.242907  12.271576  12.326310  12.339697  12.339697   \n",
      "4   11.628624  11.994025  12.073444  12.181086  12.181086  12.181086   \n",
      "\n",
      "      sm_3.0  stellarmass  \n",
      "0  12.584593    12.584593  \n",
      "1  11.995679    11.995679  \n",
      "2  12.218066    12.218066  \n",
      "3  12.339697    12.339697  \n",
      "4  12.181086    12.181086   \n",
      "\n",
      "stellar_mass is central galaxy, stellarmass is the total cluster stellar mass\n"
     ]
    },
    {
     "data": {
      "text/plain": "<Figure size 432x288 with 1 Axes>",
      "image/png": "[encoded data removed]"
     },
     "metadata": {
      "needs_background": "light"
     },
     "output_type": "display_data"
    }
   ],
   "source": [
    "sm = (zg[\"memb_prob\"]*zg[\"member\"]*10**(zg[\"stellarmass\"])).sum();\n",
    "sm = np.log10(sm); print(\"if member, sum(memb_prob*sm):  \",sm, z[\"stellarmass\"])\n",
    "\n",
    "print(cluster_df.head(), \"\\n\\nstellar_mass is central galaxy, stellarmass is the total cluster stellar mass\")\n",
    "\n",
    "class_df[\"memb_prob\"] = membership\n",
    "cnt,bins,junk=plt.hist(class_df[class_df[\"memb_prob\"]>0.1][\"radius\"], bins=100, weights=membership[membership>0.1])"
   ],
   "metadata": {
    "collapsed": false,
    "pycharm": {
     "name": "#%%\n"
    }
   }
  },
  {
   "cell_type": "markdown",
   "source": [
    "## 2.4"
   ],
   "metadata": {
    "collapsed": false,
    "pycharm": {
     "name": "#%% md\n"
    }
   }
  },
  {
   "cell_type": "code",
   "execution_count": 20,
   "outputs": [],
   "source": [
    "#  norm_count, axes = plot_radial_profile(class_df)\n",
    "#  norm_count, axes = plot_radial_profile(class_df, norm_count, axes)\n",
    "\n",
    "def plot_radial_profile(galaxies, norm_count = 0, axes= \"\" ) :\n",
    "    if len(axes) == 0 :\n",
    "        ax=0\n",
    "        fig, axes = plt.subplots(nrows=1, ncols=2, figsize=(13, 6), constrained_layout=True)\n",
    "        axes[ax].set_yscale(\"log\")\n",
    "    else :\n",
    "        ax=1\n",
    "        axes[ax].set_yscale(\"linear\")\n",
    "\n",
    "\n",
    "    lim_prob = 1e-3\n",
    "    inside = galaxies[galaxies[\"memb_prob\"]>lim_prob]\n",
    "    weights = membership[membership>lim_prob]\n",
    "    cnt,bins=np.histogram(inside[\"radius\"], bins=100, weights=weights)\n",
    "    if type(norm_count) == int : norm_count = bins[1:]**2 #\n",
    "\n",
    "    for lim_prob in [1e-3, 1e-2, 0.1, 0.2]:\n",
    "        inside = galaxies[galaxies[\"memb_prob\"]>lim_prob]\n",
    "        weights = membership[membership>lim_prob]#*inside[\"member\"] # membership_prob * member is the best performance\n",
    "        cnt,abins=np.histogram(inside[\"radius\"], bins=bins, weights=weights)\n",
    "        sns.scatterplot(x=bins[1:], y=cnt/norm_count, ax=axes[ax])\n",
    "\n",
    "    inside = galaxies[galaxies[\"member\"]==1]\n",
    "    cnt,bins=np.histogram(inside[\"radius\"], bins=100)\n",
    "    #sns.lineplot(x=bins[1:], y=cnt/(bins[1:]**2), color=\"k\",  ax=axes[0])\n",
    "    sns.scatterplot(x=bins[1:], y=cnt/norm_count, ax=axes[ax], color=\"k\")\n",
    "\n",
    "\n",
    "    xlab = \"radius (Mpc)\"\n",
    "    if ax == 0:\n",
    "        ylab = \"$\\sum$galaxies$/2\\pi r^2$\"\n",
    "    else:\n",
    "        ylab = r\"$\\sum$galaxies$/\\sum$galaxies$(p_i>10^{-3})$\"\n",
    "    axes[ax].set_xlabel(xlab)\n",
    "    axes[ax].set_ylabel(ylab)\n",
    "    axes[ax].legend(labels=[r\"$p>10^{-3}$\",r\"$p>10^{-2}$\",r\"$p>10^{-1}$\",r\"$p>0.2$\", \"truth\"])\n",
    "\n",
    "    if ax == 1:\n",
    "        axes[ax].set_ylim(-0.5,2.0)\n",
    "\n",
    "    return norm_count, axes\n",
    "\n",
    "#plt.savefig(\"radial_profile.png\")"
   ],
   "metadata": {
    "collapsed": false,
    "pycharm": {
     "name": "#%%\n"
    }
   }
  },
  {
   "cell_type": "code",
   "execution_count": 21,
   "outputs": [
    {
     "data": {
      "text/plain": "<Figure size 936x432 with 2 Axes>",
      "image/png": "[encoded data removed]"
     },
     "metadata": {
      "needs_background": "light"
     },
     "output_type": "display_data"
    }
   ],
   "source": [
    "norm_count, axes = plot_radial_profile(class_df)\n",
    "norm_count, axes = plot_radial_profile(class_df, norm_count, axes)"
   ],
   "metadata": {
    "collapsed": false,
    "pycharm": {
     "name": "#%%\n"
    }
   }
  }
 ],
 "metadata": {
  "kernelspec": {
   "display_name": "Python 3",
   "language": "python",
   "name": "python3"
  },
  "language_info": {
   "codemirror_mode": {
    "name": "ipython",
    "version": 2
   },
   "file_extension": ".py",
   "mimetype": "text/x-python",
   "name": "python",
   "nbconvert_exporter": "python",
   "pygments_lexer": "ipython2",
   "version": "2.7.6"
  }
 },
 "nbformat": 4,
 "nbformat_minor": 0
}